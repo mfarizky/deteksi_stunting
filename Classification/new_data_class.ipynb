{
 "cells": [
  {
   "cell_type": "markdown",
   "metadata": {},
   "source": [
    "# Deteksi Status Gizi"
   ]
  },
  {
   "cell_type": "markdown",
   "metadata": {},
   "source": [
    "## Pustaka Yang Digunakan"
   ]
  },
  {
   "cell_type": "code",
   "execution_count": 114,
   "metadata": {},
   "outputs": [],
   "source": [
    "import pandas as pd\n",
    "import numpy as np\n",
    "import matplotlib.pyplot as plt\n",
    "import seaborn as sns\n",
    "\n",
    "from sklearn.model_selection import train_test_split\n",
    "from sklearn.ensemble import RandomForestClassifier\n",
    "from sklearn.naive_bayes import GaussianNB\n",
    "from sklearn.tree import DecisionTreeClassifier\n",
    "from sklearn.multioutput import MultiOutputClassifier\n",
    "\n",
    "from sklearn.metrics import classification_report\n",
    "from sklearn.metrics import confusion_matrix"
   ]
  },
  {
   "cell_type": "markdown",
   "metadata": {},
   "source": [
    "## Memuat Data"
   ]
  },
  {
   "cell_type": "code",
   "execution_count": 115,
   "metadata": {},
   "outputs": [],
   "source": [
    "df = pd.read_excel(\"/home/rmfarizky/Project/deteksi_stunting/Dataset/new_data.xlsx\")"
   ]
  },
  {
   "cell_type": "markdown",
   "metadata": {},
   "source": [
    "## Detail Information"
   ]
  },
  {
   "cell_type": "code",
   "execution_count": 116,
   "metadata": {},
   "outputs": [
    {
     "name": "stdout",
     "output_type": "stream",
     "text": [
      "<class 'pandas.core.frame.DataFrame'>\n",
      "RangeIndex: 624 entries, 0 to 623\n",
      "Data columns (total 32 columns):\n",
      " #   Column              Non-Null Count  Dtype  \n",
      "---  ------              --------------  -----  \n",
      " 0   NIK                 624 non-null    object \n",
      " 1   Nama                624 non-null    object \n",
      " 2   JK                  624 non-null    object \n",
      " 3   Tgl Lahir           624 non-null    object \n",
      " 4   BB Lahir            624 non-null    object \n",
      " 5   TB Lahir            624 non-null    object \n",
      " 6   Nama Ortu           624 non-null    object \n",
      " 7   Prov                624 non-null    object \n",
      " 8   Kab/Kota            624 non-null    object \n",
      " 9   Kec                 624 non-null    object \n",
      " 10  Pukesmas            624 non-null    object \n",
      " 11  Desa/Kel            624 non-null    object \n",
      " 12  Posyandu            624 non-null    object \n",
      " 13  RT                  624 non-null    object \n",
      " 14  RW                  624 non-null    object \n",
      " 15  Alamat              624 non-null    object \n",
      " 16  Usia Saat Ukur      624 non-null    object \n",
      " 17  Tanggal Pengukuran  624 non-null    object \n",
      " 18  Berat               624 non-null    float64\n",
      " 19  Tinggi              624 non-null    float64\n",
      " 20  LiLA                624 non-null    float64\n",
      " 21  BB/U                624 non-null    object \n",
      " 22  ZS BB/U             624 non-null    float64\n",
      " 23  TB/U                622 non-null    object \n",
      " 24  ZS TB/U             624 non-null    float64\n",
      " 25  BB/TB               622 non-null    object \n",
      " 26  ZS BB/TB            624 non-null    float64\n",
      " 27  Naik Berat Badan    624 non-null    object \n",
      " 28  PMT Diterima (kg)   624 non-null    object \n",
      " 29  Jml Vit A           486 non-null    float64\n",
      " 30  KPSP                615 non-null    object \n",
      " 31  KIA                 624 non-null    object \n",
      "dtypes: float64(7), object(25)\n",
      "memory usage: 156.1+ KB\n"
     ]
    }
   ],
   "source": [
    "df.info()"
   ]
  },
  {
   "cell_type": "markdown",
   "metadata": {},
   "source": [
    "## Preprocessing"
   ]
  },
  {
   "cell_type": "markdown",
   "metadata": {},
   "source": [
    "### Drop unused columns"
   ]
  },
  {
   "cell_type": "code",
   "execution_count": 117,
   "metadata": {},
   "outputs": [],
   "source": [
    "df = df.drop(columns=['NIK','Nama','Tgl Lahir', 'BB Lahir', 'TB Lahir', 'Nama Ortu', \n",
    "                      'Prov', 'Kab/Kota','Kec','Pukesmas','Desa/Kel', 'Posyandu','RT', 'RW', 'Alamat','Naik Berat Badan', \n",
    "                      'PMT Diterima (kg)', 'Jml Vit A', 'KPSP','KIA', 'Tanggal Pengukuran'])"
   ]
  },
  {
   "cell_type": "markdown",
   "metadata": {},
   "source": [
    "### Drop Missing Value"
   ]
  },
  {
   "cell_type": "code",
   "execution_count": 118,
   "metadata": {},
   "outputs": [
    {
     "data": {
      "text/plain": [
       "JK                0\n",
       "Usia Saat Ukur    0\n",
       "Berat             0\n",
       "Tinggi            0\n",
       "LiLA              0\n",
       "BB/U              0\n",
       "ZS BB/U           0\n",
       "TB/U              0\n",
       "ZS TB/U           0\n",
       "BB/TB             0\n",
       "ZS BB/TB          0\n",
       "dtype: int64"
      ]
     },
     "execution_count": 118,
     "metadata": {},
     "output_type": "execute_result"
    }
   ],
   "source": [
    "df.dropna(subset=['TB/U','BB/TB'], axis=0, inplace=True)\n",
    "df.isna().sum()"
   ]
  },
  {
   "cell_type": "code",
   "execution_count": 119,
   "metadata": {},
   "outputs": [
    {
     "name": "stdout",
     "output_type": "stream",
     "text": [
      "<class 'pandas.core.frame.DataFrame'>\n",
      "Index: 622 entries, 0 to 623\n",
      "Data columns (total 11 columns):\n",
      " #   Column          Non-Null Count  Dtype  \n",
      "---  ------          --------------  -----  \n",
      " 0   JK              622 non-null    object \n",
      " 1   Usia Saat Ukur  622 non-null    object \n",
      " 2   Berat           622 non-null    float64\n",
      " 3   Tinggi          622 non-null    float64\n",
      " 4   LiLA            622 non-null    float64\n",
      " 5   BB/U            622 non-null    object \n",
      " 6   ZS BB/U         622 non-null    float64\n",
      " 7   TB/U            622 non-null    object \n",
      " 8   ZS TB/U         622 non-null    float64\n",
      " 9   BB/TB           622 non-null    object \n",
      " 10  ZS BB/TB        622 non-null    float64\n",
      "dtypes: float64(6), object(5)\n",
      "memory usage: 58.3+ KB\n"
     ]
    }
   ],
   "source": [
    "df.info()"
   ]
  },
  {
   "cell_type": "code",
   "execution_count": 120,
   "metadata": {},
   "outputs": [],
   "source": [
    "df.rename(columns={'Usia Saat Ukur':'usia ukur'}, \n",
    "        inplace=True)"
   ]
  },
  {
   "cell_type": "code",
   "execution_count": 121,
   "metadata": {},
   "outputs": [
    {
     "data": {
      "text/plain": [
       "0       4 Tahun - 8 Bulan - 0 Hari\n",
       "1       1 Tahun - 3 Bulan - 0 Hari\n",
       "2       5 Tahun - 0 Bulan - 0 Hari\n",
       "3      0 Tahun - 10 Bulan - 0 Hari\n",
       "4       4 Tahun - 1 Bulan - 0 Hari\n",
       "                  ...             \n",
       "619     4 Tahun - 7 Bulan - 7 Hari\n",
       "620     2 Tahun - 3 Bulan - 3 Hari\n",
       "621    1 Tahun - 1 Bulan - 20 Hari\n",
       "622    0 Tahun - 8 Bulan - 21 Hari\n",
       "623    3 Tahun - 5 Bulan - 25 Hari\n",
       "Name: usia ukur, Length: 622, dtype: object"
      ]
     },
     "execution_count": 121,
     "metadata": {},
     "output_type": "execute_result"
    }
   ],
   "source": [
    "df['usia ukur']"
   ]
  },
  {
   "cell_type": "markdown",
   "metadata": {},
   "source": [
    "## Ganti Unique Value"
   ]
  },
  {
   "cell_type": "code",
   "execution_count": 122,
   "metadata": {},
   "outputs": [
    {
     "data": {
      "text/plain": [
       "array(['Berat Badan Normal', 'Kurang', 'Sangat Kurang', 'Risiko Lebih',\n",
       "       'Lebih', 'Normal'], dtype=object)"
      ]
     },
     "execution_count": 122,
     "metadata": {},
     "output_type": "execute_result"
    }
   ],
   "source": [
    "df['BB/U'].unique()"
   ]
  },
  {
   "cell_type": "code",
   "execution_count": 123,
   "metadata": {},
   "outputs": [],
   "source": [
    "# df['BB/U'][[df['BB/U'] == 'Berat Badan Normal']] = 'Normal'"
   ]
  },
  {
   "cell_type": "code",
   "execution_count": 128,
   "metadata": {},
   "outputs": [],
   "source": [
    "df[df['BB/U'] == 'Berat Badan Normal'] = 'Normal'"
   ]
  },
  {
   "cell_type": "code",
   "execution_count": 129,
   "metadata": {},
   "outputs": [
    {
     "name": "stdout",
     "output_type": "stream",
     "text": [
      "<class 'pandas.core.frame.DataFrame'>\n",
      "Index: 622 entries, 0 to 623\n",
      "Data columns (total 11 columns):\n",
      " #   Column     Non-Null Count  Dtype \n",
      "---  ------     --------------  ----- \n",
      " 0   JK         622 non-null    object\n",
      " 1   usia ukur  622 non-null    object\n",
      " 2   Berat      622 non-null    object\n",
      " 3   Tinggi     622 non-null    object\n",
      " 4   LiLA       622 non-null    object\n",
      " 5   BB/U       622 non-null    object\n",
      " 6   ZS BB/U    622 non-null    object\n",
      " 7   TB/U       622 non-null    object\n",
      " 8   ZS TB/U    622 non-null    object\n",
      " 9   BB/TB      622 non-null    object\n",
      " 10  ZS BB/TB   622 non-null    object\n",
      "dtypes: object(11)\n",
      "memory usage: 58.3+ KB\n"
     ]
    }
   ],
   "source": [
    "df.info()"
   ]
  },
  {
   "cell_type": "markdown",
   "metadata": {},
   "source": [
    "### Transformasi Usia Ukur diubah ke format Bulan"
   ]
  },
  {
   "cell_type": "code",
   "execution_count": 130,
   "metadata": {},
   "outputs": [],
   "source": [
    "def usia_to_months(age_str):\n",
    "    age_list = age_str.split(' ')\n",
    "    total_months = int(age_list[0]) * 12 + int(age_list[3])  # Tahun * 12 + Bulan\n",
    "    return total_months"
   ]
  },
  {
   "cell_type": "code",
   "execution_count": 131,
   "metadata": {},
   "outputs": [
    {
     "ename": "ValueError",
     "evalue": "invalid literal for int() with base 10: 'Normal'",
     "output_type": "error",
     "traceback": [
      "\u001b[0;31m---------------------------------------------------------------------------\u001b[0m",
      "\u001b[0;31mValueError\u001b[0m                                Traceback (most recent call last)",
      "\u001b[1;32m/home/rmfarizky/Project/deteksi_stunting/Classification/new_data_class.ipynb Cell 23\u001b[0m line \u001b[0;36m1\n\u001b[0;32m----> <a href='vscode-notebook-cell://wsl%2Bubuntu-18.04/home/rmfarizky/Project/deteksi_stunting/Classification/new_data_class.ipynb#X24sdnNjb2RlLXJlbW90ZQ%3D%3D?line=0'>1</a>\u001b[0m df[\u001b[39m'\u001b[39m\u001b[39musia ukur\u001b[39m\u001b[39m'\u001b[39m] \u001b[39m=\u001b[39m df[\u001b[39m'\u001b[39;49m\u001b[39musia ukur\u001b[39;49m\u001b[39m'\u001b[39;49m]\u001b[39m.\u001b[39;49mapply(usia_to_months)\n",
      "File \u001b[0;32m~/micromamba/envs/hlc/lib/python3.11/site-packages/pandas/core/series.py:4760\u001b[0m, in \u001b[0;36mSeries.apply\u001b[0;34m(self, func, convert_dtype, args, by_row, **kwargs)\u001b[0m\n\u001b[1;32m   4625\u001b[0m \u001b[39mdef\u001b[39;00m \u001b[39mapply\u001b[39m(\n\u001b[1;32m   4626\u001b[0m     \u001b[39mself\u001b[39m,\n\u001b[1;32m   4627\u001b[0m     func: AggFuncType,\n\u001b[0;32m   (...)\u001b[0m\n\u001b[1;32m   4632\u001b[0m     \u001b[39m*\u001b[39m\u001b[39m*\u001b[39mkwargs,\n\u001b[1;32m   4633\u001b[0m ) \u001b[39m-\u001b[39m\u001b[39m>\u001b[39m DataFrame \u001b[39m|\u001b[39m Series:\n\u001b[1;32m   4634\u001b[0m \u001b[39m    \u001b[39m\u001b[39m\"\"\"\u001b[39;00m\n\u001b[1;32m   4635\u001b[0m \u001b[39m    Invoke function on values of Series.\u001b[39;00m\n\u001b[1;32m   4636\u001b[0m \n\u001b[0;32m   (...)\u001b[0m\n\u001b[1;32m   4751\u001b[0m \u001b[39m    dtype: float64\u001b[39;00m\n\u001b[1;32m   4752\u001b[0m \u001b[39m    \"\"\"\u001b[39;00m\n\u001b[1;32m   4753\u001b[0m     \u001b[39mreturn\u001b[39;00m SeriesApply(\n\u001b[1;32m   4754\u001b[0m         \u001b[39mself\u001b[39;49m,\n\u001b[1;32m   4755\u001b[0m         func,\n\u001b[1;32m   4756\u001b[0m         convert_dtype\u001b[39m=\u001b[39;49mconvert_dtype,\n\u001b[1;32m   4757\u001b[0m         by_row\u001b[39m=\u001b[39;49mby_row,\n\u001b[1;32m   4758\u001b[0m         args\u001b[39m=\u001b[39;49margs,\n\u001b[1;32m   4759\u001b[0m         kwargs\u001b[39m=\u001b[39;49mkwargs,\n\u001b[0;32m-> 4760\u001b[0m     )\u001b[39m.\u001b[39;49mapply()\n",
      "File \u001b[0;32m~/micromamba/envs/hlc/lib/python3.11/site-packages/pandas/core/apply.py:1207\u001b[0m, in \u001b[0;36mSeriesApply.apply\u001b[0;34m(self)\u001b[0m\n\u001b[1;32m   1204\u001b[0m     \u001b[39mreturn\u001b[39;00m \u001b[39mself\u001b[39m\u001b[39m.\u001b[39mapply_compat()\n\u001b[1;32m   1206\u001b[0m \u001b[39m# self.func is Callable\u001b[39;00m\n\u001b[0;32m-> 1207\u001b[0m \u001b[39mreturn\u001b[39;00m \u001b[39mself\u001b[39;49m\u001b[39m.\u001b[39;49mapply_standard()\n",
      "File \u001b[0;32m~/micromamba/envs/hlc/lib/python3.11/site-packages/pandas/core/apply.py:1287\u001b[0m, in \u001b[0;36mSeriesApply.apply_standard\u001b[0;34m(self)\u001b[0m\n\u001b[1;32m   1281\u001b[0m \u001b[39m# row-wise access\u001b[39;00m\n\u001b[1;32m   1282\u001b[0m \u001b[39m# apply doesn't have a `na_action` keyword and for backward compat reasons\u001b[39;00m\n\u001b[1;32m   1283\u001b[0m \u001b[39m# we need to give `na_action=\"ignore\"` for categorical data.\u001b[39;00m\n\u001b[1;32m   1284\u001b[0m \u001b[39m# TODO: remove the `na_action=\"ignore\"` when that default has been changed in\u001b[39;00m\n\u001b[1;32m   1285\u001b[0m \u001b[39m#  Categorical (GH51645).\u001b[39;00m\n\u001b[1;32m   1286\u001b[0m action \u001b[39m=\u001b[39m \u001b[39m\"\u001b[39m\u001b[39mignore\u001b[39m\u001b[39m\"\u001b[39m \u001b[39mif\u001b[39;00m \u001b[39misinstance\u001b[39m(obj\u001b[39m.\u001b[39mdtype, CategoricalDtype) \u001b[39melse\u001b[39;00m \u001b[39mNone\u001b[39;00m\n\u001b[0;32m-> 1287\u001b[0m mapped \u001b[39m=\u001b[39m obj\u001b[39m.\u001b[39;49m_map_values(\n\u001b[1;32m   1288\u001b[0m     mapper\u001b[39m=\u001b[39;49mcurried, na_action\u001b[39m=\u001b[39;49maction, convert\u001b[39m=\u001b[39;49m\u001b[39mself\u001b[39;49m\u001b[39m.\u001b[39;49mconvert_dtype\n\u001b[1;32m   1289\u001b[0m )\n\u001b[1;32m   1291\u001b[0m \u001b[39mif\u001b[39;00m \u001b[39mlen\u001b[39m(mapped) \u001b[39mand\u001b[39;00m \u001b[39misinstance\u001b[39m(mapped[\u001b[39m0\u001b[39m], ABCSeries):\n\u001b[1;32m   1292\u001b[0m     \u001b[39m# GH#43986 Need to do list(mapped) in order to get treated as nested\u001b[39;00m\n\u001b[1;32m   1293\u001b[0m     \u001b[39m#  See also GH#25959 regarding EA support\u001b[39;00m\n\u001b[1;32m   1294\u001b[0m     \u001b[39mreturn\u001b[39;00m obj\u001b[39m.\u001b[39m_constructor_expanddim(\u001b[39mlist\u001b[39m(mapped), index\u001b[39m=\u001b[39mobj\u001b[39m.\u001b[39mindex)\n",
      "File \u001b[0;32m~/micromamba/envs/hlc/lib/python3.11/site-packages/pandas/core/base.py:921\u001b[0m, in \u001b[0;36mIndexOpsMixin._map_values\u001b[0;34m(self, mapper, na_action, convert)\u001b[0m\n\u001b[1;32m    918\u001b[0m \u001b[39mif\u001b[39;00m \u001b[39misinstance\u001b[39m(arr, ExtensionArray):\n\u001b[1;32m    919\u001b[0m     \u001b[39mreturn\u001b[39;00m arr\u001b[39m.\u001b[39mmap(mapper, na_action\u001b[39m=\u001b[39mna_action)\n\u001b[0;32m--> 921\u001b[0m \u001b[39mreturn\u001b[39;00m algorithms\u001b[39m.\u001b[39;49mmap_array(arr, mapper, na_action\u001b[39m=\u001b[39;49mna_action, convert\u001b[39m=\u001b[39;49mconvert)\n",
      "File \u001b[0;32m~/micromamba/envs/hlc/lib/python3.11/site-packages/pandas/core/algorithms.py:1814\u001b[0m, in \u001b[0;36mmap_array\u001b[0;34m(arr, mapper, na_action, convert)\u001b[0m\n\u001b[1;32m   1812\u001b[0m values \u001b[39m=\u001b[39m arr\u001b[39m.\u001b[39mastype(\u001b[39mobject\u001b[39m, copy\u001b[39m=\u001b[39m\u001b[39mFalse\u001b[39;00m)\n\u001b[1;32m   1813\u001b[0m \u001b[39mif\u001b[39;00m na_action \u001b[39mis\u001b[39;00m \u001b[39mNone\u001b[39;00m:\n\u001b[0;32m-> 1814\u001b[0m     \u001b[39mreturn\u001b[39;00m lib\u001b[39m.\u001b[39;49mmap_infer(values, mapper, convert\u001b[39m=\u001b[39;49mconvert)\n\u001b[1;32m   1815\u001b[0m \u001b[39melse\u001b[39;00m:\n\u001b[1;32m   1816\u001b[0m     \u001b[39mreturn\u001b[39;00m lib\u001b[39m.\u001b[39mmap_infer_mask(\n\u001b[1;32m   1817\u001b[0m         values, mapper, mask\u001b[39m=\u001b[39misna(values)\u001b[39m.\u001b[39mview(np\u001b[39m.\u001b[39muint8), convert\u001b[39m=\u001b[39mconvert\n\u001b[1;32m   1818\u001b[0m     )\n",
      "File \u001b[0;32mlib.pyx:2917\u001b[0m, in \u001b[0;36mpandas._libs.lib.map_infer\u001b[0;34m()\u001b[0m\n",
      "\u001b[1;32m/home/rmfarizky/Project/deteksi_stunting/Classification/new_data_class.ipynb Cell 23\u001b[0m line \u001b[0;36m3\n\u001b[1;32m      <a href='vscode-notebook-cell://wsl%2Bubuntu-18.04/home/rmfarizky/Project/deteksi_stunting/Classification/new_data_class.ipynb#X24sdnNjb2RlLXJlbW90ZQ%3D%3D?line=0'>1</a>\u001b[0m \u001b[39mdef\u001b[39;00m \u001b[39musia_to_months\u001b[39m(age_str):\n\u001b[1;32m      <a href='vscode-notebook-cell://wsl%2Bubuntu-18.04/home/rmfarizky/Project/deteksi_stunting/Classification/new_data_class.ipynb#X24sdnNjb2RlLXJlbW90ZQ%3D%3D?line=1'>2</a>\u001b[0m     age_list \u001b[39m=\u001b[39m age_str\u001b[39m.\u001b[39msplit(\u001b[39m'\u001b[39m\u001b[39m \u001b[39m\u001b[39m'\u001b[39m)\n\u001b[0;32m----> <a href='vscode-notebook-cell://wsl%2Bubuntu-18.04/home/rmfarizky/Project/deteksi_stunting/Classification/new_data_class.ipynb#X24sdnNjb2RlLXJlbW90ZQ%3D%3D?line=2'>3</a>\u001b[0m     total_months \u001b[39m=\u001b[39m \u001b[39mint\u001b[39;49m(age_list[\u001b[39m0\u001b[39;49m]) \u001b[39m*\u001b[39m \u001b[39m12\u001b[39m \u001b[39m+\u001b[39m \u001b[39mint\u001b[39m(age_list[\u001b[39m3\u001b[39m])  \u001b[39m# Tahun * 12 + Bulan\u001b[39;00m\n\u001b[1;32m      <a href='vscode-notebook-cell://wsl%2Bubuntu-18.04/home/rmfarizky/Project/deteksi_stunting/Classification/new_data_class.ipynb#X24sdnNjb2RlLXJlbW90ZQ%3D%3D?line=3'>4</a>\u001b[0m     \u001b[39mreturn\u001b[39;00m total_months\n",
      "\u001b[0;31mValueError\u001b[0m: invalid literal for int() with base 10: 'Normal'"
     ]
    }
   ],
   "source": [
    "df['usia ukur'] = df['usia ukur'].apply(usia_to_months)"
   ]
  },
  {
   "cell_type": "code",
   "execution_count": null,
   "metadata": {},
   "outputs": [],
   "source": [
    "df = df[['JK','usia ukur', 'Berat', 'Tinggi', 'LiLA', 'ZS BB/U', 'ZS TB/U', 'ZS BB/TB', 'BB/U', 'TB/U', 'BB/TB']]"
   ]
  },
  {
   "cell_type": "code",
   "execution_count": null,
   "metadata": {},
   "outputs": [
    {
     "data": {
      "text/html": [
       "<div>\n",
       "<style scoped>\n",
       "    .dataframe tbody tr th:only-of-type {\n",
       "        vertical-align: middle;\n",
       "    }\n",
       "\n",
       "    .dataframe tbody tr th {\n",
       "        vertical-align: top;\n",
       "    }\n",
       "\n",
       "    .dataframe thead th {\n",
       "        text-align: right;\n",
       "    }\n",
       "</style>\n",
       "<table border=\"1\" class=\"dataframe\">\n",
       "  <thead>\n",
       "    <tr style=\"text-align: right;\">\n",
       "      <th></th>\n",
       "      <th>JK</th>\n",
       "      <th>usia ukur</th>\n",
       "      <th>Berat</th>\n",
       "      <th>Tinggi</th>\n",
       "      <th>LiLA</th>\n",
       "      <th>ZS BB/U</th>\n",
       "      <th>ZS TB/U</th>\n",
       "      <th>ZS BB/TB</th>\n",
       "      <th>BB/U</th>\n",
       "      <th>TB/U</th>\n",
       "      <th>BB/TB</th>\n",
       "    </tr>\n",
       "  </thead>\n",
       "  <tbody>\n",
       "    <tr>\n",
       "      <th>0</th>\n",
       "      <td>L</td>\n",
       "      <td>56</td>\n",
       "      <td>14.3</td>\n",
       "      <td>101.0</td>\n",
       "      <td>14.5</td>\n",
       "      <td>-1.50</td>\n",
       "      <td>-1.97</td>\n",
       "      <td>-0.77</td>\n",
       "      <td>Berat Badan Normal</td>\n",
       "      <td>Normal</td>\n",
       "      <td>Gizi Baik</td>\n",
       "    </tr>\n",
       "    <tr>\n",
       "      <th>1</th>\n",
       "      <td>L</td>\n",
       "      <td>15</td>\n",
       "      <td>9.2</td>\n",
       "      <td>74.0</td>\n",
       "      <td>14.4</td>\n",
       "      <td>-1.43</td>\n",
       "      <td>-2.00</td>\n",
       "      <td>-0.50</td>\n",
       "      <td>Berat Badan Normal</td>\n",
       "      <td>Normal</td>\n",
       "      <td>Gizi Baik</td>\n",
       "    </tr>\n",
       "    <tr>\n",
       "      <th>2</th>\n",
       "      <td>L</td>\n",
       "      <td>60</td>\n",
       "      <td>12.3</td>\n",
       "      <td>100.0</td>\n",
       "      <td>15.8</td>\n",
       "      <td>-1.37</td>\n",
       "      <td>-1.79</td>\n",
       "      <td>-0.42</td>\n",
       "      <td>Berat Badan Normal</td>\n",
       "      <td>Normal</td>\n",
       "      <td>Gizi Baik</td>\n",
       "    </tr>\n",
       "    <tr>\n",
       "      <th>3</th>\n",
       "      <td>L</td>\n",
       "      <td>10</td>\n",
       "      <td>9.0</td>\n",
       "      <td>74.0</td>\n",
       "      <td>15.0</td>\n",
       "      <td>-1.99</td>\n",
       "      <td>-1.99</td>\n",
       "      <td>-1.31</td>\n",
       "      <td>Berat Badan Normal</td>\n",
       "      <td>Normal</td>\n",
       "      <td>Gizi Baik</td>\n",
       "    </tr>\n",
       "    <tr>\n",
       "      <th>4</th>\n",
       "      <td>P</td>\n",
       "      <td>49</td>\n",
       "      <td>13.3</td>\n",
       "      <td>97.0</td>\n",
       "      <td>13.6</td>\n",
       "      <td>0.21</td>\n",
       "      <td>-0.94</td>\n",
       "      <td>0.97</td>\n",
       "      <td>Berat Badan Normal</td>\n",
       "      <td>Normal</td>\n",
       "      <td>Gizi Baik</td>\n",
       "    </tr>\n",
       "  </tbody>\n",
       "</table>\n",
       "</div>"
      ],
      "text/plain": [
       "   JK  usia ukur  Berat  Tinggi  LiLA  ZS BB/U  ZS TB/U  ZS BB/TB  \\\n",
       "0  L          56   14.3   101.0  14.5    -1.50    -1.97     -0.77   \n",
       "1  L          15    9.2    74.0  14.4    -1.43    -2.00     -0.50   \n",
       "2  L          60   12.3   100.0  15.8    -1.37    -1.79     -0.42   \n",
       "3  L          10    9.0    74.0  15.0    -1.99    -1.99     -1.31   \n",
       "4  P          49   13.3    97.0  13.6     0.21    -0.94      0.97   \n",
       "\n",
       "                 BB/U    TB/U      BB/TB  \n",
       "0  Berat Badan Normal  Normal  Gizi Baik  \n",
       "1  Berat Badan Normal  Normal  Gizi Baik  \n",
       "2  Berat Badan Normal  Normal  Gizi Baik  \n",
       "3  Berat Badan Normal  Normal  Gizi Baik  \n",
       "4  Berat Badan Normal  Normal  Gizi Baik  "
      ]
     },
     "execution_count": 37,
     "metadata": {},
     "output_type": "execute_result"
    }
   ],
   "source": [
    "df.head()"
   ]
  },
  {
   "cell_type": "markdown",
   "metadata": {},
   "source": [
    "## Exploratory Data Analysis"
   ]
  },
  {
   "cell_type": "code",
   "execution_count": null,
   "metadata": {},
   "outputs": [
    {
     "data": {
      "image/png": "[encoded data removed]",
      "text/plain": [
       "<Figure size 1500x500 with 3 Axes>"
      ]
     },
     "metadata": {},
     "output_type": "display_data"
    }
   ],
   "source": [
    "\n",
    "fig, axs = plt.subplots(1, 3, figsize=(15, 5))\n",
    "df['BB/U'].value_counts().plot.bar(color='maroon', ax=axs[0])\n",
    "axs[0].set_title('BB/U Distribution')\n",
    "\n",
    "df['TB/U'].value_counts().plot.bar(color='maroon', ax=axs[1])\n",
    "axs[1].set_title('TB/U Distribution')\n",
    "\n",
    "df['BB/TB'].value_counts().plot.bar(color='maroon', ax=axs[2])\n",
    "axs[2].set_title('TB/U Distribution')\n",
    "\n",
    "plt.show()\n"
   ]
  },
  {
   "cell_type": "markdown",
   "metadata": {},
   "source": [
    "### Transformasi Jenis Kelamin"
   ]
  },
  {
   "cell_type": "code",
   "execution_count": null,
   "metadata": {},
   "outputs": [],
   "source": [
    "def Encoded_Col(i_df):\n",
    "    # Mengurutkan ulang label secara alfabetis\n",
    "    sorted_labels = sorted(df[i_df].unique())\n",
    "\n",
    "    # Membuat dictionary untuk menyimpan keterangan encode baru\n",
    "    encode_labels_new = {}\n",
    "\n",
    "    # Melakukan encoding ulang dengan label yang berurutan\n",
    "    for i, label in enumerate(sorted_labels):\n",
    "        encode_labels_new[label] = i\n",
    "        df.loc[df[i_df] == label, i_df] = i\n",
    "\n",
    "    # # Menyimpan data setelah encode ulang\n",
    "    # df.to_csv('data_encode_ulang.csv', index=False)\n",
    "    # Menampilkan keterangan encode dan jumlah baris per target setelah encode ulang\n",
    "    for target_label, target_encode in encode_labels_new.items():\n",
    "        count_after = df[df[i_df] == target_encode].shape[0]\n",
    "        print(\"Target Label:\", target_label)\n",
    "        print(\"Encode Label:\", target_encode)\n",
    "        print(\"Jumlah Baris:\", count_after)\n",
    "        print()"
   ]
  },
  {
   "cell_type": "code",
   "execution_count": null,
   "metadata": {},
   "outputs": [
    {
     "name": "stdout",
     "output_type": "stream",
     "text": [
      "Target Label: L\n",
      "Encode Label: 0\n",
      "Jumlah Baris: 8\n",
      "\n",
      "Target Label: L \n",
      "Encode Label: 1\n",
      "Jumlah Baris: 306\n",
      "\n",
      "Target Label: P\n",
      "Encode Label: 2\n",
      "Jumlah Baris: 14\n",
      "\n",
      "Target Label: P \n",
      "Encode Label: 3\n",
      "Jumlah Baris: 294\n",
      "\n"
     ]
    }
   ],
   "source": [
    "Encoded_Col('JK')"
   ]
  },
  {
   "cell_type": "code",
   "execution_count": null,
   "metadata": {},
   "outputs": [
    {
     "name": "stdout",
     "output_type": "stream",
     "text": [
      "['Berat Badan Normal' 'Kurang' 'Sangat Kurang' 'Risiko Lebih' 'Lebih'\n",
      " 'Normal']\n",
      "['Normal' 'Pendek' 'Sangat Pendek' 'Tinggi']\n",
      "['Gizi Baik' 'Gizi Kurang' 'Gizi Lebih' 'Obesitas' 'Risiko Gizi Lebih'\n",
      " 'Gizi Buruk' 'Resiko Gizi Lebih']\n"
     ]
    }
   ],
   "source": [
    "print(df['BB/U'].unique())\n",
    "print(df['TB/U'].unique())\n",
    "print(df['BB/TB'].unique())"
   ]
  },
  {
   "cell_type": "code",
   "execution_count": null,
   "metadata": {},
   "outputs": [],
   "source": [
    "df['BB/U'][df['BB/U'] == 'Berat Badan Normal'] = 'Normal'"
   ]
  },
  {
   "cell_type": "code",
   "execution_count": null,
   "metadata": {},
   "outputs": [],
   "source": [
    "df.to_csv('clean_new_data.csv', index=False)"
   ]
  },
  {
   "cell_type": "markdown",
   "metadata": {},
   "source": [
    "## Splitting Data"
   ]
  },
  {
   "cell_type": "code",
   "execution_count": null,
   "metadata": {},
   "outputs": [],
   "source": [
    "X = df[df.columns[:5]]\n",
    "y = df[df.columns[6]]\n",
    "X, y = np.array(X), np.array(y)"
   ]
  },
  {
   "cell_type": "code",
   "execution_count": null,
   "metadata": {},
   "outputs": [],
   "source": [
    "X_train, X_test, y_train, y_test = train_test_split(X, y, \n",
    "                                 test_size=0.2, random_state=42)"
   ]
  },
  {
   "cell_type": "markdown",
   "metadata": {},
   "source": [
    "## Linear Regression"
   ]
  },
  {
   "cell_type": "code",
   "execution_count": null,
   "metadata": {},
   "outputs": [
    {
     "data": {
      "text/html": [
       "<style>#sk-container-id-1 {color: black;}#sk-container-id-1 pre{padding: 0;}#sk-container-id-1 div.sk-toggleable {background-color: white;}#sk-container-id-1 label.sk-toggleable__label {cursor: pointer;display: block;width: 100%;margin-bottom: 0;padding: 0.3em;box-sizing: border-box;text-align: center;}#sk-container-id-1 label.sk-toggleable__label-arrow:before {content: \"▸\";float: left;margin-right: 0.25em;color: #696969;}#sk-container-id-1 label.sk-toggleable__label-arrow:hover:before {color: black;}#sk-container-id-1 div.sk-estimator:hover label.sk-toggleable__label-arrow:before {color: black;}#sk-container-id-1 div.sk-toggleable__content {max-height: 0;max-width: 0;overflow: hidden;text-align: left;background-color: #f0f8ff;}#sk-container-id-1 div.sk-toggleable__content pre {margin: 0.2em;color: black;border-radius: 0.25em;background-color: #f0f8ff;}#sk-container-id-1 input.sk-toggleable__control:checked~div.sk-toggleable__content {max-height: 200px;max-width: 100%;overflow: auto;}#sk-container-id-1 input.sk-toggleable__control:checked~label.sk-toggleable__label-arrow:before {content: \"▾\";}#sk-container-id-1 div.sk-estimator input.sk-toggleable__control:checked~label.sk-toggleable__label {background-color: #d4ebff;}#sk-container-id-1 div.sk-label input.sk-toggleable__control:checked~label.sk-toggleable__label {background-color: #d4ebff;}#sk-container-id-1 input.sk-hidden--visually {border: 0;clip: rect(1px 1px 1px 1px);clip: rect(1px, 1px, 1px, 1px);height: 1px;margin: -1px;overflow: hidden;padding: 0;position: absolute;width: 1px;}#sk-container-id-1 div.sk-estimator {font-family: monospace;background-color: #f0f8ff;border: 1px dotted black;border-radius: 0.25em;box-sizing: border-box;margin-bottom: 0.5em;}#sk-container-id-1 div.sk-estimator:hover {background-color: #d4ebff;}#sk-container-id-1 div.sk-parallel-item::after {content: \"\";width: 100%;border-bottom: 1px solid gray;flex-grow: 1;}#sk-container-id-1 div.sk-label:hover label.sk-toggleable__label {background-color: #d4ebff;}#sk-container-id-1 div.sk-serial::before {content: \"\";position: absolute;border-left: 1px solid gray;box-sizing: border-box;top: 0;bottom: 0;left: 50%;z-index: 0;}#sk-container-id-1 div.sk-serial {display: flex;flex-direction: column;align-items: center;background-color: white;padding-right: 0.2em;padding-left: 0.2em;position: relative;}#sk-container-id-1 div.sk-item {position: relative;z-index: 1;}#sk-container-id-1 div.sk-parallel {display: flex;align-items: stretch;justify-content: center;background-color: white;position: relative;}#sk-container-id-1 div.sk-item::before, #sk-container-id-1 div.sk-parallel-item::before {content: \"\";position: absolute;border-left: 1px solid gray;box-sizing: border-box;top: 0;bottom: 0;left: 50%;z-index: -1;}#sk-container-id-1 div.sk-parallel-item {display: flex;flex-direction: column;z-index: 1;position: relative;background-color: white;}#sk-container-id-1 div.sk-parallel-item:first-child::after {align-self: flex-end;width: 50%;}#sk-container-id-1 div.sk-parallel-item:last-child::after {align-self: flex-start;width: 50%;}#sk-container-id-1 div.sk-parallel-item:only-child::after {width: 0;}#sk-container-id-1 div.sk-dashed-wrapped {border: 1px dashed gray;margin: 0 0.4em 0.5em 0.4em;box-sizing: border-box;padding-bottom: 0.4em;background-color: white;}#sk-container-id-1 div.sk-label label {font-family: monospace;font-weight: bold;display: inline-block;line-height: 1.2em;}#sk-container-id-1 div.sk-label-container {text-align: center;}#sk-container-id-1 div.sk-container {/* jupyter's `normalize.less` sets `[hidden] { display: none; }` but bootstrap.min.css set `[hidden] { display: none !important; }` so we also need the `!important` here to be able to override the default hidden behavior on the sphinx rendered scikit-learn.org. See: https://github.com/scikit-learn/scikit-learn/issues/21755 */display: inline-block !important;position: relative;}#sk-container-id-1 div.sk-text-repr-fallback {display: none;}</style><div id=\"sk-container-id-1\" class=\"sk-top-container\"><div class=\"sk-text-repr-fallback\"><pre>LinearRegression()</pre><b>In a Jupyter environment, please rerun this cell to show the HTML representation or trust the notebook. <br />On GitHub, the HTML representation is unable to render, please try loading this page with nbviewer.org.</b></div><div class=\"sk-container\" hidden><div class=\"sk-item\"><div class=\"sk-estimator sk-toggleable\"><input class=\"sk-toggleable__control sk-hidden--visually\" id=\"sk-estimator-id-1\" type=\"checkbox\" checked><label for=\"sk-estimator-id-1\" class=\"sk-toggleable__label sk-toggleable__label-arrow\">LinearRegression</label><div class=\"sk-toggleable__content\"><pre>LinearRegression()</pre></div></div></div></div></div>"
      ],
      "text/plain": [
       "LinearRegression()"
      ]
     },
     "execution_count": 46,
     "metadata": {},
     "output_type": "execute_result"
    }
   ],
   "source": [
    "from sklearn.linear_model import LinearRegression\n",
    "lr_model = LinearRegression()\n",
    "lr_model.fit(X_train, y_train)"
   ]
  },
  {
   "cell_type": "code",
   "execution_count": null,
   "metadata": {},
   "outputs": [],
   "source": [
    "y_pred = lr_model.predict(X_test)"
   ]
  },
  {
   "cell_type": "code",
   "execution_count": null,
   "metadata": {},
   "outputs": [],
   "source": [
    "from sklearn.metrics import mean_squared_error, r2_score"
   ]
  },
  {
   "cell_type": "code",
   "execution_count": null,
   "metadata": {},
   "outputs": [
    {
     "name": "stdout",
     "output_type": "stream",
     "text": [
      "Mean Squared Error: 0.5095174185259219\n",
      "R^2 Score: 0.37650216538067105\n"
     ]
    }
   ],
   "source": [
    "# Evaluate the model\n",
    "mse = mean_squared_error(y_test, y_pred)\n",
    "r2 = r2_score(y_test, y_pred)\n",
    "\n",
    "print(\"Mean Squared Error:\", mse)\n",
    "print(\"R^2 Score:\", r2)"
   ]
  }
 ],
 "metadata": {
  "kernelspec": {
   "display_name": "Python 3",
   "language": "python",
   "name": "python3"
  },
  "language_info": {
   "codemirror_mode": {
    "name": "ipython",
    "version": 3
   },
   "file_extension": ".py",
   "mimetype": "text/x-python",
   "name": "python",
   "nbconvert_exporter": "python",
   "pygments_lexer": "ipython3",
   "version": "3.11.5"
  }
 },
 "nbformat": 4,
 "nbformat_minor": 2
}
