{
 "cells": [
  {
   "cell_type": "code",
   "execution_count": 12,
   "metadata": {},
   "outputs": [],
   "source": [
    "import tensorflow as tf\n",
    "import pandas as pd\n",
    "from tensorflow.keras.models import Model\n",
    "from tensorflow.keras.layers import Dense, Input\n",
    "from sklearn.model_selection import train_test_split\n"
   ]
  },
  {
   "cell_type": "code",
   "execution_count": 5,
   "metadata": {},
   "outputs": [],
   "source": [
    "df = pd.read_csv(\"/home/rmfarizky/Project/deteksi_stunting/Dataset/encoded_dataset.csv\")"
   ]
  },
  {
   "cell_type": "code",
   "execution_count": 6,
   "metadata": {},
   "outputs": [],
   "source": [
    "features = ['j_kel', 'usia_ukur(bulan)', 'berat', 'tinggi','Z_BB/TB', 'Z_BB/U','Z_TB/U', 'Z_IMT/U']\n",
    "target = ['BB/TB', 'BB/U', 'TB/U', 'IMT/U']"
   ]
  },
  {
   "cell_type": "code",
   "execution_count": 10,
   "metadata": {},
   "outputs": [
    {
     "data": {
      "text/plain": [
       "['Z_BB/TB', 'Z_BB/U', 'Z_TB/U', 'Z_IMT/U']"
      ]
     },
     "execution_count": 10,
     "metadata": {},
     "output_type": "execute_result"
    }
   ],
   "source": [
    "features[4:]"
   ]
  },
  {
   "cell_type": "code",
   "execution_count": 7,
   "metadata": {},
   "outputs": [
    {
     "data": {
      "text/plain": [
       "['j_kel', 'usia_ukur(bulan)', 'berat', 'tinggi']"
      ]
     },
     "execution_count": 7,
     "metadata": {},
     "output_type": "execute_result"
    }
   ],
   "source": [
    "features[:4]"
   ]
  },
  {
   "cell_type": "code",
   "execution_count": 14,
   "metadata": {},
   "outputs": [],
   "source": [
    "X1 = df[features[:4]]\n",
    "y1 = df[features[4:]]\n",
    "X_train, X_test, y_train, y_test = train_test_split(X1, y1, test_size=0.2, random_state=42)"
   ]
  },
  {
   "cell_type": "code",
   "execution_count": 15,
   "metadata": {},
   "outputs": [
    {
     "name": "stdout",
     "output_type": "stream",
     "text": [
      "Model: \"model_1\"\n",
      "_________________________________________________________________\n",
      " Layer (type)                Output Shape              Param #   \n",
      "=================================================================\n",
      " input_2 (InputLayer)        [(None, 4)]               0         \n",
      "                                                                 \n",
      " dense_3 (Dense)             (None, 64)                320       \n",
      "                                                                 \n",
      " dense_4 (Dense)             (None, 32)                2080      \n",
      "                                                                 \n",
      " dense_5 (Dense)             (None, 4)                 132       \n",
      "                                                                 \n",
      "=================================================================\n",
      "Total params: 2532 (9.89 KB)\n",
      "Trainable params: 2532 (9.89 KB)\n",
      "Non-trainable params: 0 (0.00 Byte)\n",
      "_________________________________________________________________\n"
     ]
    }
   ],
   "source": [
    "# Inisialisasi input layer\n",
    "input_layer = Input(shape=(4,))\n",
    "\n",
    "# Tambahkan beberapa hidden layers\n",
    "hidden_layer1 = Dense(units=64, activation='relu')(input_layer)\n",
    "hidden_layer2 = Dense(units=32, activation='relu')(hidden_layer1)\n",
    "\n",
    "# Output layer untuk 4 Z score\n",
    "output_layer = Dense(units=4, activation='linear')(hidden_layer2)\n",
    "\n",
    "# Inisialisasi model\n",
    "regression_model = Model(inputs=input_layer, outputs=output_layer)\n",
    "\n",
    "# Kompilasi model\n",
    "regression_model.compile(optimizer='adam', loss='mean_squared_error')\n",
    "\n",
    "# Menampilkan ringkasan model\n",
    "regression_model.summary()"
   ]
  }
 ],
 "metadata": {
  "kernelspec": {
   "display_name": "Python 3",
   "language": "python",
   "name": "python3"
  },
  "language_info": {
   "codemirror_mode": {
    "name": "ipython",
    "version": 3
   },
   "file_extension": ".py",
   "mimetype": "text/x-python",
   "name": "python",
   "nbconvert_exporter": "python",
   "pygments_lexer": "ipython3",
   "version": "3.11.5"
  },
  "orig_nbformat": 4
 },
 "nbformat": 4,
 "nbformat_minor": 2
}
