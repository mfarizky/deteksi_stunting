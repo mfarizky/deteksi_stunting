{
 "cells": [
  {
   "cell_type": "code",
   "execution_count": 82,
   "metadata": {},
   "outputs": [],
   "source": [
    "import tensorflow as tf\n",
    "import pandas as pd\n",
    "import numpy as np\n",
    "import matplotlib.pyplot as plt\n",
    "from tensorflow.keras.models import Model\n",
    "from tensorflow.keras.layers import Dense, Input\n",
    "from sklearn.model_selection import train_test_split\n",
    "from sklearn.linear_model import LinearRegression\n",
    "from tensorflow.keras.layers import BatchNormalization\n",
    "from sklearn.preprocessing import MinMaxScaler\n"
   ]
  },
  {
   "cell_type": "code",
   "execution_count": 13,
   "metadata": {},
   "outputs": [],
   "source": [
    "df = pd.read_csv(\"/home/rmfarizky/Project/deteksi_stunting/Dataset/encoded_dataset.csv\")"
   ]
  },
  {
   "cell_type": "code",
   "execution_count": 14,
   "metadata": {},
   "outputs": [],
   "source": [
    "features = ['j_kel', 'usia_ukur(bulan)', 'berat', 'tinggi','Z_BB/TB', 'Z_BB/U','Z_TB/U', 'Z_IMT/U']\n",
    "target = ['BB/TB', 'BB/U', 'TB/U', 'IMT/U']"
   ]
  },
  {
   "cell_type": "code",
   "execution_count": 100,
   "metadata": {},
   "outputs": [],
   "source": [
    "X1 = df[features[2:4]]\n",
    "y1 = df[features[-1]]\n",
    "X_train, X_test, y_train, y_test = train_test_split(X1, y1, test_size=0.2, random_state=42)"
   ]
  },
  {
   "cell_type": "code",
   "execution_count": 101,
   "metadata": {},
   "outputs": [
    {
     "data": {
      "text/plain": [
       "0     -0.22\n",
       "1     -1.95\n",
       "2     -1.05\n",
       "3     -0.36\n",
       "4     -0.96\n",
       "       ... \n",
       "619   -0.68\n",
       "620   -1.06\n",
       "621   -2.12\n",
       "622   -1.18\n",
       "623   -0.19\n",
       "Name: Z_IMT/U, Length: 624, dtype: float64"
      ]
     },
     "execution_count": 101,
     "metadata": {},
     "output_type": "execute_result"
    }
   ],
   "source": [
    "df[features[-1]]"
   ]
  },
  {
   "cell_type": "code",
   "execution_count": 102,
   "metadata": {},
   "outputs": [],
   "source": [
    "scaler = MinMaxScaler()"
   ]
  },
  {
   "cell_type": "code",
   "execution_count": 103,
   "metadata": {},
   "outputs": [],
   "source": [
    "X_train_normalized = scaler.fit_transform(X_train)\n",
    "X_test_normalized = scaler.transform(X_test)"
   ]
  },
  {
   "cell_type": "code",
   "execution_count": 107,
   "metadata": {},
   "outputs": [
    {
     "name": "stdout",
     "output_type": "stream",
     "text": [
      "Model: \"model_7\"\n",
      "_________________________________________________________________\n",
      " Layer (type)                Output Shape              Param #   \n",
      "=================================================================\n",
      " input_8 (InputLayer)        [(None, 2)]               0         \n",
      "                                                                 \n",
      " batch_normalization_3 (Bat  (None, 2)                 8         \n",
      " chNormalization)                                                \n",
      "                                                                 \n",
      " dense_22 (Dense)            (None, 64)                192       \n",
      "                                                                 \n"
     ]
    },
    {
     "name": "stdout",
     "output_type": "stream",
     "text": [
      " dense_23 (Dense)            (None, 32)                2080      \n",
      "                                                                 \n",
      " dense_24 (Dense)            (None, 1)                 33        \n",
      "                                                                 \n",
      "=================================================================\n",
      "Total params: 2313 (9.04 KB)\n",
      "Trainable params: 2309 (9.02 KB)\n",
      "Non-trainable params: 4 (16.00 Byte)\n",
      "_________________________________________________________________\n"
     ]
    }
   ],
   "source": [
    "# Inisialisasi input layer\n",
    "input_layer = Input(shape=(2,))\n",
    "normalized_input = BatchNormalization()(input_layer)\n",
    "\n",
    "# Tambahkan beberapa hidden layers\n",
    "hidden_layer1 = Dense(units=64, activation='relu')(normalized_input)\n",
    "hidden_layer2 = Dense(units=32, activation='relu')(hidden_layer1)\n",
    "\n",
    "# Output layer untuk 4 Z score\n",
    "output_layer = Dense(units=1, activation='linear')(hidden_layer2)\n",
    "\n",
    "# Inisialisasi model\n",
    "regression_model = Model(inputs=input_layer, outputs=output_layer)\n",
    "\n",
    "# Kompilasi model\n",
    "regression_model.compile(optimizer='adam', loss='mean_squared_error')\n",
    "\n",
    "# Menampilkan ringkasan model\n",
    "regression_model.summary()"
   ]
  },
  {
   "cell_type": "code",
   "execution_count": 108,
   "metadata": {},
   "outputs": [
    {
     "name": "stdout",
     "output_type": "stream",
     "text": [
      "Epoch 1/50\n"
     ]
    },
    {
     "name": "stdout",
     "output_type": "stream",
     "text": [
      "15/15 [==============================] - 1s 13ms/step - loss: 1.4517 - val_loss: 1.4372\n",
      "Epoch 2/50\n",
      "15/15 [==============================] - 0s 4ms/step - loss: 1.2607 - val_loss: 1.3464\n",
      "Epoch 3/50\n",
      "15/15 [==============================] - 0s 7ms/step - loss: 1.2746 - val_loss: 1.3448\n",
      "Epoch 4/50\n",
      "15/15 [==============================] - 0s 6ms/step - loss: 1.2409 - val_loss: 1.3493\n",
      "Epoch 5/50\n",
      "15/15 [==============================] - 0s 6ms/step - loss: 1.2425 - val_loss: 1.3234\n",
      "Epoch 6/50\n",
      "15/15 [==============================] - 0s 5ms/step - loss: 1.2155 - val_loss: 1.2871\n",
      "Epoch 7/50\n",
      "15/15 [==============================] - 0s 5ms/step - loss: 1.2084 - val_loss: 1.2653\n",
      "Epoch 8/50\n",
      "15/15 [==============================] - 0s 5ms/step - loss: 1.1988 - val_loss: 1.2608\n",
      "Epoch 9/50\n",
      "15/15 [==============================] - 0s 4ms/step - loss: 1.1990 - val_loss: 1.2645\n",
      "Epoch 10/50\n",
      "15/15 [==============================] - 0s 5ms/step - loss: 1.1919 - val_loss: 1.2579\n",
      "Epoch 11/50\n",
      "15/15 [==============================] - 0s 4ms/step - loss: 1.1963 - val_loss: 1.2543\n",
      "Epoch 12/50\n",
      "15/15 [==============================] - 0s 5ms/step - loss: 1.2076 - val_loss: 1.2592\n",
      "Epoch 13/50\n",
      "15/15 [==============================] - 0s 5ms/step - loss: 1.2067 - val_loss: 1.2556\n",
      "Epoch 14/50\n",
      "15/15 [==============================] - 0s 5ms/step - loss: 1.2026 - val_loss: 1.2484\n",
      "Epoch 15/50\n",
      "15/15 [==============================] - 0s 6ms/step - loss: 1.2097 - val_loss: 1.2686\n",
      "Epoch 16/50\n",
      "15/15 [==============================] - 0s 7ms/step - loss: 1.2072 - val_loss: 1.2525\n",
      "Epoch 17/50\n",
      "15/15 [==============================] - 0s 4ms/step - loss: 1.2022 - val_loss: 1.2459\n",
      "Epoch 18/50\n",
      "15/15 [==============================] - 0s 7ms/step - loss: 1.2080 - val_loss: 1.2474\n",
      "Epoch 19/50\n",
      "15/15 [==============================] - 0s 5ms/step - loss: 1.1907 - val_loss: 1.2452\n",
      "Epoch 20/50\n",
      "15/15 [==============================] - 0s 8ms/step - loss: 1.1849 - val_loss: 1.2511\n",
      "Epoch 21/50\n",
      "15/15 [==============================] - 0s 5ms/step - loss: 1.1940 - val_loss: 1.2731\n",
      "Epoch 22/50\n",
      "15/15 [==============================] - 0s 5ms/step - loss: 1.2110 - val_loss: 1.2736\n",
      "Epoch 23/50\n",
      "15/15 [==============================] - 0s 5ms/step - loss: 1.1881 - val_loss: 1.2498\n",
      "Epoch 24/50\n",
      "15/15 [==============================] - 0s 6ms/step - loss: 1.2041 - val_loss: 1.2516\n",
      "Epoch 25/50\n",
      "15/15 [==============================] - 0s 6ms/step - loss: 1.1964 - val_loss: 1.2456\n",
      "Epoch 26/50\n",
      "15/15 [==============================] - 0s 5ms/step - loss: 1.1844 - val_loss: 1.2443\n",
      "Epoch 27/50\n",
      "15/15 [==============================] - 0s 5ms/step - loss: 1.1873 - val_loss: 1.2505\n",
      "Epoch 28/50\n",
      "15/15 [==============================] - 0s 5ms/step - loss: 1.2116 - val_loss: 1.2488\n",
      "Epoch 29/50\n",
      "15/15 [==============================] - 0s 5ms/step - loss: 1.2063 - val_loss: 1.2576\n",
      "Epoch 30/50\n",
      "15/15 [==============================] - 0s 5ms/step - loss: 1.1986 - val_loss: 1.2490\n",
      "Epoch 31/50\n",
      "15/15 [==============================] - 0s 5ms/step - loss: 1.1964 - val_loss: 1.2511\n",
      "Epoch 32/50\n",
      "15/15 [==============================] - 0s 5ms/step - loss: 1.2100 - val_loss: 1.2578\n",
      "Epoch 33/50\n",
      "15/15 [==============================] - 0s 5ms/step - loss: 1.1994 - val_loss: 1.2546\n",
      "Epoch 34/50\n",
      "15/15 [==============================] - 0s 10ms/step - loss: 1.2010 - val_loss: 1.2449\n",
      "Epoch 35/50\n",
      "15/15 [==============================] - 0s 8ms/step - loss: 1.2049 - val_loss: 1.2542\n",
      "Epoch 36/50\n",
      "15/15 [==============================] - 0s 5ms/step - loss: 1.2062 - val_loss: 1.2587\n",
      "Epoch 37/50\n",
      "15/15 [==============================] - 0s 5ms/step - loss: 1.1992 - val_loss: 1.2551\n",
      "Epoch 38/50\n",
      "15/15 [==============================] - 0s 6ms/step - loss: 1.1977 - val_loss: 1.2539\n",
      "Epoch 39/50\n",
      "15/15 [==============================] - 0s 6ms/step - loss: 1.1987 - val_loss: 1.2498\n",
      "Epoch 40/50\n",
      "15/15 [==============================] - 0s 5ms/step - loss: 1.1881 - val_loss: 1.2448\n",
      "Epoch 41/50\n",
      "15/15 [==============================] - 0s 5ms/step - loss: 1.2033 - val_loss: 1.2435\n",
      "Epoch 42/50\n",
      "15/15 [==============================] - 0s 7ms/step - loss: 1.1939 - val_loss: 1.2479\n",
      "Epoch 43/50\n",
      "15/15 [==============================] - 0s 6ms/step - loss: 1.2047 - val_loss: 1.2517\n",
      "Epoch 44/50\n",
      "15/15 [==============================] - 0s 5ms/step - loss: 1.2045 - val_loss: 1.2455\n",
      "Epoch 45/50\n",
      "15/15 [==============================] - 0s 5ms/step - loss: 1.1974 - val_loss: 1.2520\n",
      "Epoch 46/50\n",
      "15/15 [==============================] - 0s 5ms/step - loss: 1.2256 - val_loss: 1.2658\n",
      "Epoch 47/50\n",
      "15/15 [==============================] - 0s 4ms/step - loss: 1.1929 - val_loss: 1.2582\n",
      "Epoch 48/50\n",
      "15/15 [==============================] - 0s 5ms/step - loss: 1.1930 - val_loss: 1.2490\n",
      "Epoch 49/50\n",
      "15/15 [==============================] - 0s 5ms/step - loss: 1.1897 - val_loss: 1.2509\n",
      "Epoch 50/50\n",
      "15/15 [==============================] - 0s 5ms/step - loss: 1.1918 - val_loss: 1.2531\n"
     ]
    },
    {
     "data": {
      "text/plain": [
       "<keras.src.callbacks.History at 0x7fe2d9785d50>"
      ]
     },
     "execution_count": 108,
     "metadata": {},
     "output_type": "execute_result"
    }
   ],
   "source": [
    "# Misalkan X_train adalah data latih dan y_train adalah target\n",
    "# X_train memiliki bentuk (jumlah_sampel, jumlah_fitur) dan y_train memiliki bentuk (jumlah_sampel, jumlah_output)\n",
    "\n",
    "# Melatih model menggunakan data latih dan target\n",
    "regression_model.fit(X_train_normalized, y_train, epochs=50, batch_size=32, validation_split=0.1)\n"
   ]
  },
  {
   "cell_type": "markdown",
   "metadata": {},
   "source": [
    "## Multiple Linear Regression With scikit-learn (BB/U)"
   ]
  },
  {
   "cell_type": "code",
   "execution_count": 109,
   "metadata": {},
   "outputs": [
    {
     "data": {
      "text/html": [
       "<div>\n",
       "<style scoped>\n",
       "    .dataframe tbody tr th:only-of-type {\n",
       "        vertical-align: middle;\n",
       "    }\n",
       "\n",
       "    .dataframe tbody tr th {\n",
       "        vertical-align: top;\n",
       "    }\n",
       "\n",
       "    .dataframe thead th {\n",
       "        text-align: right;\n",
       "    }\n",
       "</style>\n",
       "<table border=\"1\" class=\"dataframe\">\n",
       "  <thead>\n",
       "    <tr style=\"text-align: right;\">\n",
       "      <th></th>\n",
       "      <th>berat</th>\n",
       "      <th>Z_BB/U</th>\n",
       "    </tr>\n",
       "  </thead>\n",
       "  <tbody>\n",
       "    <tr>\n",
       "      <th>0</th>\n",
       "      <td>13.1</td>\n",
       "      <td>0.52</td>\n",
       "    </tr>\n",
       "    <tr>\n",
       "      <th>1</th>\n",
       "      <td>12.2</td>\n",
       "      <td>-1.94</td>\n",
       "    </tr>\n",
       "    <tr>\n",
       "      <th>2</th>\n",
       "      <td>12.6</td>\n",
       "      <td>-1.43</td>\n",
       "    </tr>\n",
       "    <tr>\n",
       "      <th>3</th>\n",
       "      <td>14.2</td>\n",
       "      <td>-1.42</td>\n",
       "    </tr>\n",
       "    <tr>\n",
       "      <th>4</th>\n",
       "      <td>13.2</td>\n",
       "      <td>-1.38</td>\n",
       "    </tr>\n",
       "    <tr>\n",
       "      <th>...</th>\n",
       "      <td>...</td>\n",
       "      <td>...</td>\n",
       "    </tr>\n",
       "    <tr>\n",
       "      <th>619</th>\n",
       "      <td>7.0</td>\n",
       "      <td>-1.59</td>\n",
       "    </tr>\n",
       "    <tr>\n",
       "      <th>620</th>\n",
       "      <td>7.6</td>\n",
       "      <td>-2.38</td>\n",
       "    </tr>\n",
       "    <tr>\n",
       "      <th>621</th>\n",
       "      <td>6.5</td>\n",
       "      <td>-2.69</td>\n",
       "    </tr>\n",
       "    <tr>\n",
       "      <th>622</th>\n",
       "      <td>6.1</td>\n",
       "      <td>-2.41</td>\n",
       "    </tr>\n",
       "    <tr>\n",
       "      <th>623</th>\n",
       "      <td>5.6</td>\n",
       "      <td>-1.11</td>\n",
       "    </tr>\n",
       "  </tbody>\n",
       "</table>\n",
       "<p>624 rows × 2 columns</p>\n",
       "</div>"
      ],
      "text/plain": [
       "     berat  Z_BB/U\n",
       "0     13.1    0.52\n",
       "1     12.2   -1.94\n",
       "2     12.6   -1.43\n",
       "3     14.2   -1.42\n",
       "4     13.2   -1.38\n",
       "..     ...     ...\n",
       "619    7.0   -1.59\n",
       "620    7.6   -2.38\n",
       "621    6.5   -2.69\n",
       "622    6.1   -2.41\n",
       "623    5.6   -1.11\n",
       "\n",
       "[624 rows x 2 columns]"
      ]
     },
     "execution_count": 109,
     "metadata": {},
     "output_type": "execute_result"
    }
   ],
   "source": [
    "df_BB = df[df.columns[2:3].tolist() + [df.columns[5]]]\n",
    "df_BB"
   ]
  },
  {
   "cell_type": "code",
   "execution_count": 110,
   "metadata": {},
   "outputs": [],
   "source": [
    "X = [0,1,2]\n",
    "y = [0,2,4]\n",
    "X, y = np.array(X), np.array(y)\n"
   ]
  },
  {
   "cell_type": "code",
   "execution_count": 111,
   "metadata": {},
   "outputs": [],
   "source": [
    "X_train, X_test, y_train, y_test = train_test_split(X, y, test_size=0.3, random_state=42)"
   ]
  },
  {
   "cell_type": "code",
   "execution_count": 112,
   "metadata": {},
   "outputs": [
    {
     "ename": "NotFittedError",
     "evalue": "This LinearRegression instance is not fitted yet. Call 'fit' with appropriate arguments before using this estimator.",
     "output_type": "error",
     "traceback": [
      "\u001b[0;31m---------------------------------------------------------------------------\u001b[0m",
      "\u001b[0;31mNotFittedError\u001b[0m                            Traceback (most recent call last)",
      "\u001b[1;32m/home/rmfarizky/Project/deteksi_stunting/dnn.ipynb Cell 14\u001b[0m line \u001b[0;36m1\n\u001b[0;32m----> <a href='vscode-notebook-cell://wsl%2Bubuntu-18.04/home/rmfarizky/Project/deteksi_stunting/dnn.ipynb#X20sdnNjb2RlLXJlbW90ZQ%3D%3D?line=0'>1</a>\u001b[0m predictions \u001b[39m=\u001b[39m regressor\u001b[39m.\u001b[39;49mpredict(X_test)\n",
      "File \u001b[0;32m~/micromamba/envs/hlc/lib/python3.11/site-packages/sklearn/linear_model/_base.py:386\u001b[0m, in \u001b[0;36mLinearModel.predict\u001b[0;34m(self, X)\u001b[0m\n\u001b[1;32m    372\u001b[0m \u001b[39mdef\u001b[39;00m \u001b[39mpredict\u001b[39m(\u001b[39mself\u001b[39m, X):\n\u001b[1;32m    373\u001b[0m \u001b[39m    \u001b[39m\u001b[39m\"\"\"\u001b[39;00m\n\u001b[1;32m    374\u001b[0m \u001b[39m    Predict using the linear model.\u001b[39;00m\n\u001b[1;32m    375\u001b[0m \n\u001b[0;32m   (...)\u001b[0m\n\u001b[1;32m    384\u001b[0m \u001b[39m        Returns predicted values.\u001b[39;00m\n\u001b[1;32m    385\u001b[0m \u001b[39m    \"\"\"\u001b[39;00m\n\u001b[0;32m--> 386\u001b[0m     \u001b[39mreturn\u001b[39;00m \u001b[39mself\u001b[39;49m\u001b[39m.\u001b[39;49m_decision_function(X)\n",
      "File \u001b[0;32m~/micromamba/envs/hlc/lib/python3.11/site-packages/sklearn/linear_model/_base.py:367\u001b[0m, in \u001b[0;36mLinearModel._decision_function\u001b[0;34m(self, X)\u001b[0m\n\u001b[1;32m    366\u001b[0m \u001b[39mdef\u001b[39;00m \u001b[39m_decision_function\u001b[39m(\u001b[39mself\u001b[39m, X):\n\u001b[0;32m--> 367\u001b[0m     check_is_fitted(\u001b[39mself\u001b[39;49m)\n\u001b[1;32m    369\u001b[0m     X \u001b[39m=\u001b[39m \u001b[39mself\u001b[39m\u001b[39m.\u001b[39m_validate_data(X, accept_sparse\u001b[39m=\u001b[39m[\u001b[39m\"\u001b[39m\u001b[39mcsr\u001b[39m\u001b[39m\"\u001b[39m, \u001b[39m\"\u001b[39m\u001b[39mcsc\u001b[39m\u001b[39m\"\u001b[39m, \u001b[39m\"\u001b[39m\u001b[39mcoo\u001b[39m\u001b[39m\"\u001b[39m], reset\u001b[39m=\u001b[39m\u001b[39mFalse\u001b[39;00m)\n\u001b[1;32m    370\u001b[0m     \u001b[39mreturn\u001b[39;00m safe_sparse_dot(X, \u001b[39mself\u001b[39m\u001b[39m.\u001b[39mcoef_\u001b[39m.\u001b[39mT, dense_output\u001b[39m=\u001b[39m\u001b[39mTrue\u001b[39;00m) \u001b[39m+\u001b[39m \u001b[39mself\u001b[39m\u001b[39m.\u001b[39mintercept_\n",
      "File \u001b[0;32m~/micromamba/envs/hlc/lib/python3.11/site-packages/sklearn/utils/validation.py:1461\u001b[0m, in \u001b[0;36mcheck_is_fitted\u001b[0;34m(estimator, attributes, msg, all_or_any)\u001b[0m\n\u001b[1;32m   1458\u001b[0m     \u001b[39mraise\u001b[39;00m \u001b[39mTypeError\u001b[39;00m(\u001b[39m\"\u001b[39m\u001b[39m%s\u001b[39;00m\u001b[39m is not an estimator instance.\u001b[39m\u001b[39m\"\u001b[39m \u001b[39m%\u001b[39m (estimator))\n\u001b[1;32m   1460\u001b[0m \u001b[39mif\u001b[39;00m \u001b[39mnot\u001b[39;00m _is_fitted(estimator, attributes, all_or_any):\n\u001b[0;32m-> 1461\u001b[0m     \u001b[39mraise\u001b[39;00m NotFittedError(msg \u001b[39m%\u001b[39m {\u001b[39m\"\u001b[39m\u001b[39mname\u001b[39m\u001b[39m\"\u001b[39m: \u001b[39mtype\u001b[39m(estimator)\u001b[39m.\u001b[39m\u001b[39m__name__\u001b[39m})\n",
      "\u001b[0;31mNotFittedError\u001b[0m: This LinearRegression instance is not fitted yet. Call 'fit' with appropriate arguments before using this estimator."
     ]
    }
   ],
   "source": [
    "predictions = regressor.predict(X_test)"
   ]
  },
  {
   "cell_type": "code",
   "execution_count": null,
   "metadata": {},
   "outputs": [],
   "source": [
    "from sklearn.metrics import mean_squared_error"
   ]
  },
  {
   "cell_type": "code",
   "execution_count": null,
   "metadata": {},
   "outputs": [
    {
     "name": "stdout",
     "output_type": "stream",
     "text": [
      "Mean Squared Error: 1.2190111458734465\n"
     ]
    }
   ],
   "source": [
    "mse = mean_squared_error(y_test, predictions)\n",
    "print(\"Mean Squared Error:\", mse)"
   ]
  },
  {
   "cell_type": "markdown",
   "metadata": {},
   "source": [
    "## Using DNN"
   ]
  },
  {
   "cell_type": "code",
   "execution_count": null,
   "metadata": {},
   "outputs": [],
   "source": [
    "import matplotlib.pyplot as plt\n",
    "import numpy as np\n",
    "import pandas as pd\n",
    "import seaborn as sns\n",
    "\n",
    "# Make NumPy printouts easier to read.\n",
    "np.set_printoptions(precision=3, suppress=True)"
   ]
  },
  {
   "cell_type": "code",
   "execution_count": null,
   "metadata": {},
   "outputs": [
    {
     "name": "stdout",
     "output_type": "stream",
     "text": [
      "2.13.0\n"
     ]
    }
   ],
   "source": [
    "import tensorflow as tf\n",
    "\n",
    "from tensorflow import keras\n",
    "from tensorflow.keras import layers\n",
    "\n",
    "print(tf.__version__)"
   ]
  },
  {
   "cell_type": "code",
   "execution_count": null,
   "metadata": {},
   "outputs": [
    {
     "data": {
      "text/html": [
       "<div>\n",
       "<style scoped>\n",
       "    .dataframe tbody tr th:only-of-type {\n",
       "        vertical-align: middle;\n",
       "    }\n",
       "\n",
       "    .dataframe tbody tr th {\n",
       "        vertical-align: top;\n",
       "    }\n",
       "\n",
       "    .dataframe thead th {\n",
       "        text-align: right;\n",
       "    }\n",
       "</style>\n",
       "<table border=\"1\" class=\"dataframe\">\n",
       "  <thead>\n",
       "    <tr style=\"text-align: right;\">\n",
       "      <th></th>\n",
       "      <th>j_kel</th>\n",
       "      <th>usia_ukur(bulan)</th>\n",
       "      <th>berat</th>\n",
       "      <th>tinggi</th>\n",
       "      <th>Z_IMT/U</th>\n",
       "    </tr>\n",
       "  </thead>\n",
       "  <tbody>\n",
       "    <tr>\n",
       "      <th>0</th>\n",
       "      <td>0</td>\n",
       "      <td>58</td>\n",
       "      <td>13.1</td>\n",
       "      <td>97.5</td>\n",
       "      <td>-0.22</td>\n",
       "    </tr>\n",
       "    <tr>\n",
       "      <th>1</th>\n",
       "      <td>1</td>\n",
       "      <td>57</td>\n",
       "      <td>12.2</td>\n",
       "      <td>98.5</td>\n",
       "      <td>-1.95</td>\n",
       "    </tr>\n",
       "    <tr>\n",
       "      <th>2</th>\n",
       "      <td>1</td>\n",
       "      <td>56</td>\n",
       "      <td>12.6</td>\n",
       "      <td>95.5</td>\n",
       "      <td>-1.05</td>\n",
       "    </tr>\n",
       "    <tr>\n",
       "      <th>3</th>\n",
       "      <td>0</td>\n",
       "      <td>55</td>\n",
       "      <td>14.2</td>\n",
       "      <td>99.3</td>\n",
       "      <td>-0.36</td>\n",
       "    </tr>\n",
       "    <tr>\n",
       "      <th>4</th>\n",
       "      <td>1</td>\n",
       "      <td>53</td>\n",
       "      <td>13.2</td>\n",
       "      <td>97.0</td>\n",
       "      <td>-0.96</td>\n",
       "    </tr>\n",
       "    <tr>\n",
       "      <th>...</th>\n",
       "      <td>...</td>\n",
       "      <td>...</td>\n",
       "      <td>...</td>\n",
       "      <td>...</td>\n",
       "      <td>...</td>\n",
       "    </tr>\n",
       "    <tr>\n",
       "      <th>619</th>\n",
       "      <td>1</td>\n",
       "      <td>9</td>\n",
       "      <td>7.0</td>\n",
       "      <td>67.5</td>\n",
       "      <td>-0.68</td>\n",
       "    </tr>\n",
       "    <tr>\n",
       "      <th>620</th>\n",
       "      <td>0</td>\n",
       "      <td>9</td>\n",
       "      <td>7.6</td>\n",
       "      <td>67.5</td>\n",
       "      <td>-1.06</td>\n",
       "    </tr>\n",
       "    <tr>\n",
       "      <th>621</th>\n",
       "      <td>1</td>\n",
       "      <td>7</td>\n",
       "      <td>6.5</td>\n",
       "      <td>65.0</td>\n",
       "      <td>-2.12</td>\n",
       "    </tr>\n",
       "    <tr>\n",
       "      <th>622</th>\n",
       "      <td>1</td>\n",
       "      <td>7</td>\n",
       "      <td>6.1</td>\n",
       "      <td>65.5</td>\n",
       "      <td>-1.18</td>\n",
       "    </tr>\n",
       "    <tr>\n",
       "      <th>623</th>\n",
       "      <td>1</td>\n",
       "      <td>2</td>\n",
       "      <td>5.6</td>\n",
       "      <td>60.0</td>\n",
       "      <td>-0.19</td>\n",
       "    </tr>\n",
       "  </tbody>\n",
       "</table>\n",
       "<p>624 rows × 5 columns</p>\n",
       "</div>"
      ],
      "text/plain": [
       "     j_kel  usia_ukur(bulan)  berat  tinggi  Z_IMT/U\n",
       "0        0                58   13.1    97.5    -0.22\n",
       "1        1                57   12.2    98.5    -1.95\n",
       "2        1                56   12.6    95.5    -1.05\n",
       "3        0                55   14.2    99.3    -0.36\n",
       "4        1                53   13.2    97.0    -0.96\n",
       "..     ...               ...    ...     ...      ...\n",
       "619      1                 9    7.0    67.5    -0.68\n",
       "620      0                 9    7.6    67.5    -1.06\n",
       "621      1                 7    6.5    65.0    -2.12\n",
       "622      1                 7    6.1    65.5    -1.18\n",
       "623      1                 2    5.6    60.0    -0.19\n",
       "\n",
       "[624 rows x 5 columns]"
      ]
     },
     "execution_count": 27,
     "metadata": {},
     "output_type": "execute_result"
    }
   ],
   "source": [
    "df_IMT"
   ]
  },
  {
   "cell_type": "code",
   "execution_count": null,
   "metadata": {},
   "outputs": [],
   "source": [
    "train_dataset = df_IMT.sample(frac=0.8, random_state=0)\n",
    "test_dataset = df_IMT.drop(train_dataset.index)"
   ]
  },
  {
   "cell_type": "code",
   "execution_count": null,
   "metadata": {},
   "outputs": [
    {
     "data": {
      "text/html": [
       "<div>\n",
       "<style scoped>\n",
       "    .dataframe tbody tr th:only-of-type {\n",
       "        vertical-align: middle;\n",
       "    }\n",
       "\n",
       "    .dataframe tbody tr th {\n",
       "        vertical-align: top;\n",
       "    }\n",
       "\n",
       "    .dataframe thead th {\n",
       "        text-align: right;\n",
       "    }\n",
       "</style>\n",
       "<table border=\"1\" class=\"dataframe\">\n",
       "  <thead>\n",
       "    <tr style=\"text-align: right;\">\n",
       "      <th></th>\n",
       "      <th>count</th>\n",
       "      <th>mean</th>\n",
       "      <th>std</th>\n",
       "      <th>min</th>\n",
       "      <th>25%</th>\n",
       "      <th>50%</th>\n",
       "      <th>75%</th>\n",
       "      <th>max</th>\n",
       "    </tr>\n",
       "  </thead>\n",
       "  <tbody>\n",
       "    <tr>\n",
       "      <th>j_kel</th>\n",
       "      <td>499.0</td>\n",
       "      <td>0.547094</td>\n",
       "      <td>0.498277</td>\n",
       "      <td>0.00</td>\n",
       "      <td>0.00</td>\n",
       "      <td>1.00</td>\n",
       "      <td>1.000</td>\n",
       "      <td>1.00</td>\n",
       "    </tr>\n",
       "    <tr>\n",
       "      <th>usia_ukur(bulan)</th>\n",
       "      <td>499.0</td>\n",
       "      <td>30.074148</td>\n",
       "      <td>16.627278</td>\n",
       "      <td>1.00</td>\n",
       "      <td>16.00</td>\n",
       "      <td>30.00</td>\n",
       "      <td>44.000</td>\n",
       "      <td>60.00</td>\n",
       "    </tr>\n",
       "    <tr>\n",
       "      <th>berat</th>\n",
       "      <td>499.0</td>\n",
       "      <td>10.729659</td>\n",
       "      <td>2.815249</td>\n",
       "      <td>3.20</td>\n",
       "      <td>8.75</td>\n",
       "      <td>10.50</td>\n",
       "      <td>12.700</td>\n",
       "      <td>23.60</td>\n",
       "    </tr>\n",
       "    <tr>\n",
       "      <th>tinggi</th>\n",
       "      <td>499.0</td>\n",
       "      <td>83.923246</td>\n",
       "      <td>12.159277</td>\n",
       "      <td>50.00</td>\n",
       "      <td>75.25</td>\n",
       "      <td>84.50</td>\n",
       "      <td>94.100</td>\n",
       "      <td>108.30</td>\n",
       "    </tr>\n",
       "    <tr>\n",
       "      <th>Z_IMT/U</th>\n",
       "      <td>499.0</td>\n",
       "      <td>-0.595731</td>\n",
       "      <td>1.069108</td>\n",
       "      <td>-3.55</td>\n",
       "      <td>-1.33</td>\n",
       "      <td>-0.72</td>\n",
       "      <td>-0.005</td>\n",
       "      <td>3.32</td>\n",
       "    </tr>\n",
       "  </tbody>\n",
       "</table>\n",
       "</div>"
      ],
      "text/plain": [
       "                  count       mean        std    min    25%    50%     75%  \\\n",
       "j_kel             499.0   0.547094   0.498277   0.00   0.00   1.00   1.000   \n",
       "usia_ukur(bulan)  499.0  30.074148  16.627278   1.00  16.00  30.00  44.000   \n",
       "berat             499.0  10.729659   2.815249   3.20   8.75  10.50  12.700   \n",
       "tinggi            499.0  83.923246  12.159277  50.00  75.25  84.50  94.100   \n",
       "Z_IMT/U           499.0  -0.595731   1.069108  -3.55  -1.33  -0.72  -0.005   \n",
       "\n",
       "                     max  \n",
       "j_kel               1.00  \n",
       "usia_ukur(bulan)   60.00  \n",
       "berat              23.60  \n",
       "tinggi            108.30  \n",
       "Z_IMT/U             3.32  "
      ]
     },
     "execution_count": 31,
     "metadata": {},
     "output_type": "execute_result"
    }
   ],
   "source": [
    "train_dataset.describe().transpose()"
   ]
  },
  {
   "cell_type": "code",
   "execution_count": null,
   "metadata": {},
   "outputs": [],
   "source": [
    "train_features = train_dataset.copy()\n",
    "test_features = test_dataset.copy()\n",
    "\n",
    "train_labels = train_features.pop('Z_IMT/U')\n",
    "test_labels = test_features.pop('Z_IMT/U')"
   ]
  },
  {
   "cell_type": "code",
   "execution_count": null,
   "metadata": {},
   "outputs": [
    {
     "data": {
      "text/html": [
       "<div>\n",
       "<style scoped>\n",
       "    .dataframe tbody tr th:only-of-type {\n",
       "        vertical-align: middle;\n",
       "    }\n",
       "\n",
       "    .dataframe tbody tr th {\n",
       "        vertical-align: top;\n",
       "    }\n",
       "\n",
       "    .dataframe thead th {\n",
       "        text-align: right;\n",
       "    }\n",
       "</style>\n",
       "<table border=\"1\" class=\"dataframe\">\n",
       "  <thead>\n",
       "    <tr style=\"text-align: right;\">\n",
       "      <th></th>\n",
       "      <th>mean</th>\n",
       "      <th>std</th>\n",
       "    </tr>\n",
       "  </thead>\n",
       "  <tbody>\n",
       "    <tr>\n",
       "      <th>j_kel</th>\n",
       "      <td>0.547094</td>\n",
       "      <td>0.498277</td>\n",
       "    </tr>\n",
       "    <tr>\n",
       "      <th>usia_ukur(bulan)</th>\n",
       "      <td>30.074148</td>\n",
       "      <td>16.627278</td>\n",
       "    </tr>\n",
       "    <tr>\n",
       "      <th>berat</th>\n",
       "      <td>10.729659</td>\n",
       "      <td>2.815249</td>\n",
       "    </tr>\n",
       "    <tr>\n",
       "      <th>tinggi</th>\n",
       "      <td>83.923246</td>\n",
       "      <td>12.159277</td>\n",
       "    </tr>\n",
       "    <tr>\n",
       "      <th>Z_IMT/U</th>\n",
       "      <td>-0.595731</td>\n",
       "      <td>1.069108</td>\n",
       "    </tr>\n",
       "  </tbody>\n",
       "</table>\n",
       "</div>"
      ],
      "text/plain": [
       "                       mean        std\n",
       "j_kel              0.547094   0.498277\n",
       "usia_ukur(bulan)  30.074148  16.627278\n",
       "berat             10.729659   2.815249\n",
       "tinggi            83.923246  12.159277\n",
       "Z_IMT/U           -0.595731   1.069108"
      ]
     },
     "execution_count": 34,
     "metadata": {},
     "output_type": "execute_result"
    }
   ],
   "source": [
    "train_dataset.describe().transpose()[['mean', 'std']]"
   ]
  },
  {
   "cell_type": "code",
   "execution_count": null,
   "metadata": {},
   "outputs": [],
   "source": [
    "normalizer = tf.keras.layers.Normalization(axis=-1)"
   ]
  },
  {
   "cell_type": "code",
   "execution_count": null,
   "metadata": {},
   "outputs": [],
   "source": [
    "normalizer = layers.Normalization(input_shape=[1,], axis=None)\n",
    "normalizer.adapt(train_features)"
   ]
  },
  {
   "cell_type": "code",
   "execution_count": null,
   "metadata": {},
   "outputs": [],
   "source": [
    "def build_and_compile_model(norm):\n",
    "  model = keras.Sequential([\n",
    "      norm,\n",
    "      layers.Dense(64, activation='relu'),\n",
    "      layers.Dense(64, activation='relu'),\n",
    "      layers.Dense(1)\n",
    "  ])\n",
    "\n",
    "  model.compile(loss='mean_absolute_error',\n",
    "                optimizer=tf.keras.optimizers.Adam(0.001))\n",
    "  return model"
   ]
  },
  {
   "cell_type": "code",
   "execution_count": null,
   "metadata": {},
   "outputs": [
    {
     "name": "stdout",
     "output_type": "stream",
     "text": [
      "1/1 [==============================] - 0s 29ms/step\n"
     ]
    },
    {
     "data": {
      "text/plain": [
       "array([[-40.591],\n",
       "       [-37.864],\n",
       "       [-49.303],\n",
       "       [-47.033]], dtype=float32)"
      ]
     },
     "execution_count": 43,
     "metadata": {},
     "output_type": "execute_result"
    }
   ],
   "source": [
    "linear_model.predict(train_features[:4])"
   ]
  },
  {
   "cell_type": "code",
   "execution_count": null,
   "metadata": {},
   "outputs": [
    {
     "data": {
      "text/html": [
       "<div>\n",
       "<style scoped>\n",
       "    .dataframe tbody tr th:only-of-type {\n",
       "        vertical-align: middle;\n",
       "    }\n",
       "\n",
       "    .dataframe tbody tr th {\n",
       "        vertical-align: top;\n",
       "    }\n",
       "\n",
       "    .dataframe thead th {\n",
       "        text-align: right;\n",
       "    }\n",
       "</style>\n",
       "<table border=\"1\" class=\"dataframe\">\n",
       "  <thead>\n",
       "    <tr style=\"text-align: right;\">\n",
       "      <th></th>\n",
       "      <th>j_kel</th>\n",
       "      <th>usia_ukur(bulan)</th>\n",
       "      <th>berat</th>\n",
       "      <th>tinggi</th>\n",
       "    </tr>\n",
       "  </thead>\n",
       "  <tbody>\n",
       "    <tr>\n",
       "      <th>356</th>\n",
       "      <td>0</td>\n",
       "      <td>46</td>\n",
       "      <td>13.4</td>\n",
       "      <td>95.0</td>\n",
       "    </tr>\n",
       "    <tr>\n",
       "      <th>299</th>\n",
       "      <td>1</td>\n",
       "      <td>46</td>\n",
       "      <td>14.0</td>\n",
       "      <td>91.6</td>\n",
       "    </tr>\n",
       "    <tr>\n",
       "      <th>424</th>\n",
       "      <td>0</td>\n",
       "      <td>25</td>\n",
       "      <td>11.5</td>\n",
       "      <td>83.4</td>\n",
       "    </tr>\n",
       "    <tr>\n",
       "      <th>313</th>\n",
       "      <td>1</td>\n",
       "      <td>28</td>\n",
       "      <td>9.4</td>\n",
       "      <td>82.5</td>\n",
       "    </tr>\n",
       "  </tbody>\n",
       "</table>\n",
       "</div>"
      ],
      "text/plain": [
       "     j_kel  usia_ukur(bulan)  berat  tinggi\n",
       "356      0                46   13.4    95.0\n",
       "299      1                46   14.0    91.6\n",
       "424      0                25   11.5    83.4\n",
       "313      1                28    9.4    82.5"
      ]
     },
     "execution_count": 42,
     "metadata": {},
     "output_type": "execute_result"
    }
   ],
   "source": []
  },
  {
   "cell_type": "code",
   "execution_count": null,
   "metadata": {},
   "outputs": [],
   "source": []
  }
 ],
 "metadata": {
  "kernelspec": {
   "display_name": "Python 3",
   "language": "python",
   "name": "python3"
  },
  "language_info": {
   "codemirror_mode": {
    "name": "ipython",
    "version": 3
   },
   "file_extension": ".py",
   "mimetype": "text/x-python",
   "name": "python",
   "nbconvert_exporter": "python",
   "pygments_lexer": "ipython3",
   "version": "3.11.5"
  },
  "orig_nbformat": 4
 },
 "nbformat": 4,
 "nbformat_minor": 2
}
