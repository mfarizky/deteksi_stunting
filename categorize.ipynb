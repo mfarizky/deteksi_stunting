{
 "cells": [
  {
   "cell_type": "code",
   "execution_count": 65,
   "metadata": {},
   "outputs": [],
   "source": [
    "import numpy as np\n",
    "import pandas as pd\n",
    "from PIL import Image"
   ]
  },
  {
   "cell_type": "code",
   "execution_count": 66,
   "metadata": {},
   "outputs": [
    {
     "name": "stdout",
     "output_type": "stream",
     "text": [
      "Data downloaded and read into a dataframe!\n"
     ]
    }
   ],
   "source": [
    "df_stun = pd.read_excel(\n",
    "    '/home/rmfarizky/Project/Stunting/LAPORAN_PEMANTAUAN__POSYANDU_2023.xlsx',\n",
    "    sheet_name='Merged'\n",
    "    )\n",
    "\n",
    "print('Data downloaded and read into a dataframe!')"
   ]
  },
  {
   "cell_type": "code",
   "execution_count": 67,
   "metadata": {},
   "outputs": [
    {
     "data": {
      "text/html": [
       "<div>\n",
       "<style scoped>\n",
       "    .dataframe tbody tr th:only-of-type {\n",
       "        vertical-align: middle;\n",
       "    }\n",
       "\n",
       "    .dataframe tbody tr th {\n",
       "        vertical-align: top;\n",
       "    }\n",
       "\n",
       "    .dataframe thead th {\n",
       "        text-align: right;\n",
       "    }\n",
       "</style>\n",
       "<table border=\"1\" class=\"dataframe\">\n",
       "  <thead>\n",
       "    <tr style=\"text-align: right;\">\n",
       "      <th></th>\n",
       "      <th>No</th>\n",
       "      <th>nama_anak</th>\n",
       "      <th>TANGGAL LAHIR</th>\n",
       "      <th>TANGGALUKUR</th>\n",
       "      <th>BERAT</th>\n",
       "      <th>TINGGI</th>\n",
       "      <th>LILA</th>\n",
       "      <th>KETERANGAN</th>\n",
       "    </tr>\n",
       "  </thead>\n",
       "  <tbody>\n",
       "    <tr>\n",
       "      <th>0</th>\n",
       "      <td>1</td>\n",
       "      <td>Arlan Saputra</td>\n",
       "      <td>2018-04-03</td>\n",
       "      <td>2023-01-24</td>\n",
       "      <td>13.1</td>\n",
       "      <td>97.5</td>\n",
       "      <td>14.7</td>\n",
       "      <td>NaN</td>\n",
       "    </tr>\n",
       "    <tr>\n",
       "      <th>1</th>\n",
       "      <td>2</td>\n",
       "      <td>Anggun Laili</td>\n",
       "      <td>2018-05-06</td>\n",
       "      <td>2023-01-24</td>\n",
       "      <td>12.2</td>\n",
       "      <td>98.5</td>\n",
       "      <td>14.5</td>\n",
       "      <td>NaN</td>\n",
       "    </tr>\n",
       "    <tr>\n",
       "      <th>2</th>\n",
       "      <td>3</td>\n",
       "      <td>Sivaul Qolbi</td>\n",
       "      <td>2018-06-06</td>\n",
       "      <td>2023-01-24</td>\n",
       "      <td>12.6</td>\n",
       "      <td>95.5</td>\n",
       "      <td>14.7</td>\n",
       "      <td>NaN</td>\n",
       "    </tr>\n",
       "    <tr>\n",
       "      <th>3</th>\n",
       "      <td>4</td>\n",
       "      <td>Rael</td>\n",
       "      <td>2018-07-03</td>\n",
       "      <td>2023-01-24</td>\n",
       "      <td>14.2</td>\n",
       "      <td>99.3</td>\n",
       "      <td>15.0</td>\n",
       "      <td>NaN</td>\n",
       "    </tr>\n",
       "    <tr>\n",
       "      <th>4</th>\n",
       "      <td>5</td>\n",
       "      <td>SILVIA ANJANI</td>\n",
       "      <td>2018-08-18</td>\n",
       "      <td>2023-01-24</td>\n",
       "      <td>13.2</td>\n",
       "      <td>97</td>\n",
       "      <td>14.7</td>\n",
       "      <td>NaN</td>\n",
       "    </tr>\n",
       "  </tbody>\n",
       "</table>\n",
       "</div>"
      ],
      "text/plain": [
       "   No      nama_anak TANGGAL LAHIR TANGGALUKUR  BERAT TINGGI  LILA  KETERANGAN\n",
       "0   1  Arlan Saputra   2018-04-03   2023-01-24   13.1   97.5  14.7         NaN\n",
       "1   2   Anggun Laili   2018-05-06   2023-01-24   12.2   98.5  14.5         NaN\n",
       "2   3   Sivaul Qolbi   2018-06-06   2023-01-24   12.6   95.5  14.7         NaN\n",
       "3   4           Rael   2018-07-03   2023-01-24   14.2   99.3  15.0         NaN\n",
       "4   5  SILVIA ANJANI   2018-08-18   2023-01-24   13.2     97  14.7         NaN"
      ]
     },
     "execution_count": 67,
     "metadata": {},
     "output_type": "execute_result"
    }
   ],
   "source": [
    "df_stun.head()"
   ]
  },
  {
   "cell_type": "code",
   "execution_count": 68,
   "metadata": {},
   "outputs": [],
   "source": [
    "df_stun.drop(['No'],axis=1, inplace=True)"
   ]
  },
  {
   "cell_type": "code",
   "execution_count": 69,
   "metadata": {},
   "outputs": [
    {
     "data": {
      "text/plain": [
       "Index(['nama_anak', 'TANGGAL LAHIR', 'TANGGALUKUR', 'BERAT', 'TINGGI', 'LILA',\n",
       "       'KETERANGAN'],\n",
       "      dtype='object')"
      ]
     },
     "execution_count": 69,
     "metadata": {},
     "output_type": "execute_result"
    }
   ],
   "source": [
    "df_stun.columns"
   ]
  },
  {
   "cell_type": "code",
   "execution_count": 70,
   "metadata": {},
   "outputs": [
    {
     "data": {
      "text/plain": [
       "Index(['nama_anak', 'tgl_lahir', 'tgl_ukur', 'berat', 'tinggi', 'lila', 'ket'], dtype='object')"
      ]
     },
     "execution_count": 70,
     "metadata": {},
     "output_type": "execute_result"
    }
   ],
   "source": [
    "df_stun.rename(columns={'TANGGAL LAHIR':'tgl_lahir', 'TANGGALUKUR': 'tgl_ukur','BERAT':'berat', 'TINGGI':'tinggi', 'LILA':'lila','KETERANGAN': 'ket'}, \n",
    "        inplace=True)\n",
    "df_stun.columns"
   ]
  },
  {
   "cell_type": "code",
   "execution_count": 71,
   "metadata": {},
   "outputs": [
    {
     "data": {
      "text/html": [
       "<div>\n",
       "<style scoped>\n",
       "    .dataframe tbody tr th:only-of-type {\n",
       "        vertical-align: middle;\n",
       "    }\n",
       "\n",
       "    .dataframe tbody tr th {\n",
       "        vertical-align: top;\n",
       "    }\n",
       "\n",
       "    .dataframe thead th {\n",
       "        text-align: right;\n",
       "    }\n",
       "</style>\n",
       "<table border=\"1\" class=\"dataframe\">\n",
       "  <thead>\n",
       "    <tr style=\"text-align: right;\">\n",
       "      <th></th>\n",
       "      <th>nama_anak</th>\n",
       "      <th>tgl_lahir</th>\n",
       "      <th>tgl_ukur</th>\n",
       "      <th>berat</th>\n",
       "      <th>tinggi</th>\n",
       "      <th>lila</th>\n",
       "      <th>ket</th>\n",
       "    </tr>\n",
       "  </thead>\n",
       "  <tbody>\n",
       "    <tr>\n",
       "      <th>0</th>\n",
       "      <td>Arlan Saputra</td>\n",
       "      <td>2018-04-03</td>\n",
       "      <td>2023-01-24</td>\n",
       "      <td>13.1</td>\n",
       "      <td>97.5</td>\n",
       "      <td>14.7</td>\n",
       "      <td>NaN</td>\n",
       "    </tr>\n",
       "    <tr>\n",
       "      <th>1</th>\n",
       "      <td>Anggun Laili</td>\n",
       "      <td>2018-05-06</td>\n",
       "      <td>2023-01-24</td>\n",
       "      <td>12.2</td>\n",
       "      <td>98.5</td>\n",
       "      <td>14.5</td>\n",
       "      <td>NaN</td>\n",
       "    </tr>\n",
       "    <tr>\n",
       "      <th>2</th>\n",
       "      <td>Sivaul Qolbi</td>\n",
       "      <td>2018-06-06</td>\n",
       "      <td>2023-01-24</td>\n",
       "      <td>12.6</td>\n",
       "      <td>95.5</td>\n",
       "      <td>14.7</td>\n",
       "      <td>NaN</td>\n",
       "    </tr>\n",
       "    <tr>\n",
       "      <th>3</th>\n",
       "      <td>Rael</td>\n",
       "      <td>2018-07-03</td>\n",
       "      <td>2023-01-24</td>\n",
       "      <td>14.2</td>\n",
       "      <td>99.3</td>\n",
       "      <td>15.0</td>\n",
       "      <td>NaN</td>\n",
       "    </tr>\n",
       "    <tr>\n",
       "      <th>4</th>\n",
       "      <td>SILVIA ANJANI</td>\n",
       "      <td>2018-08-18</td>\n",
       "      <td>2023-01-24</td>\n",
       "      <td>13.2</td>\n",
       "      <td>97</td>\n",
       "      <td>14.7</td>\n",
       "      <td>NaN</td>\n",
       "    </tr>\n",
       "  </tbody>\n",
       "</table>\n",
       "</div>"
      ],
      "text/plain": [
       "       nama_anak    tgl_lahir   tgl_ukur  berat tinggi  lila  ket\n",
       "0  Arlan Saputra  2018-04-03  2023-01-24   13.1   97.5  14.7  NaN\n",
       "1   Anggun Laili  2018-05-06  2023-01-24   12.2   98.5  14.5  NaN\n",
       "2   Sivaul Qolbi  2018-06-06  2023-01-24   12.6   95.5  14.7  NaN\n",
       "3           Rael  2018-07-03  2023-01-24   14.2   99.3  15.0  NaN\n",
       "4  SILVIA ANJANI  2018-08-18  2023-01-24   13.2     97  14.7  NaN"
      ]
     },
     "execution_count": 71,
     "metadata": {},
     "output_type": "execute_result"
    }
   ],
   "source": [
    "df_stun.head()"
   ]
  },
  {
   "cell_type": "code",
   "execution_count": 113,
   "metadata": {},
   "outputs": [
    {
     "data": {
      "text/plain": [
       "nama_anak      0\n",
       "tgl_lahir      0\n",
       "tgl_ukur       0\n",
       "berat          0\n",
       "tinggi         0\n",
       "lila          35\n",
       "ket          624\n",
       "dtype: int64"
      ]
     },
     "execution_count": 113,
     "metadata": {},
     "output_type": "execute_result"
    }
   ],
   "source": [
    "df_stun.isnull().sum()"
   ]
  },
  {
   "cell_type": "code",
   "execution_count": null,
   "metadata": {},
   "outputs": [],
   "source": []
  },
  {
   "cell_type": "code",
   "execution_count": 73,
   "metadata": {},
   "outputs": [
    {
     "name": "stderr",
     "output_type": "stream",
     "text": [
      "/tmp/ipykernel_8369/2215010242.py:1: FutureWarning: Series.fillna with 'method' is deprecated and will raise in a future version. Use obj.ffill() or obj.bfill() instead.\n",
      "  df_stun['tgl_ukur'].fillna(method='ffill', inplace=True)\n"
     ]
    }
   ],
   "source": [
    "df_stun['tgl_ukur'].fillna(method='ffill', inplace=True)"
   ]
  },
  {
   "cell_type": "code",
   "execution_count": 89,
   "metadata": {},
   "outputs": [
    {
     "data": {
      "text/plain": [
       "1"
      ]
     },
     "execution_count": 89,
     "metadata": {},
     "output_type": "execute_result"
    }
   ],
   "source": [
    "df_stun['berat'].isnull().sum()"
   ]
  },
  {
   "cell_type": "code",
   "execution_count": 104,
   "metadata": {},
   "outputs": [
    {
     "name": "stdout",
     "output_type": "stream",
     "text": [
      "Missing value at index 512: nan\n"
     ]
    }
   ],
   "source": [
    "for index, value in enumerate(df_stun['berat']):\n",
    "    if pd.isna(value):\n",
    "        print(f\"Missing value at index {index}: {value}\")"
   ]
  },
  {
   "cell_type": "code",
   "execution_count": 110,
   "metadata": {},
   "outputs": [
    {
     "data": {
      "text/plain": [
       "nama_anak          Aldi Hermawan\n",
       "tgl_lahir            2018-02-05 \n",
       "tgl_ukur     2023-01-10 00:00:00\n",
       "berat                        NaN\n",
       "tinggi                      97.3\n",
       "lila                        13.4\n",
       "ket                          NaN\n",
       "Name: 512, dtype: object"
      ]
     },
     "execution_count": 110,
     "metadata": {},
     "output_type": "execute_result"
    }
   ],
   "source": [
    "df_stun.iloc[512]"
   ]
  },
  {
   "cell_type": "code",
   "execution_count": 111,
   "metadata": {},
   "outputs": [],
   "source": [
    "df_stun = df_stun.drop(512)"
   ]
  },
  {
   "cell_type": "code",
   "execution_count": 112,
   "metadata": {},
   "outputs": [
    {
     "data": {
      "text/html": [
       "<div>\n",
       "<style scoped>\n",
       "    .dataframe tbody tr th:only-of-type {\n",
       "        vertical-align: middle;\n",
       "    }\n",
       "\n",
       "    .dataframe tbody tr th {\n",
       "        vertical-align: top;\n",
       "    }\n",
       "\n",
       "    .dataframe thead th {\n",
       "        text-align: right;\n",
       "    }\n",
       "</style>\n",
       "<table border=\"1\" class=\"dataframe\">\n",
       "  <thead>\n",
       "    <tr style=\"text-align: right;\">\n",
       "      <th></th>\n",
       "      <th>nama_anak</th>\n",
       "      <th>tgl_lahir</th>\n",
       "      <th>tgl_ukur</th>\n",
       "      <th>berat</th>\n",
       "      <th>tinggi</th>\n",
       "      <th>lila</th>\n",
       "      <th>ket</th>\n",
       "    </tr>\n",
       "  </thead>\n",
       "  <tbody>\n",
       "    <tr>\n",
       "      <th>0</th>\n",
       "      <td>Arlan Saputra</td>\n",
       "      <td>2018-04-03</td>\n",
       "      <td>2023-01-24</td>\n",
       "      <td>13.1</td>\n",
       "      <td>97.5</td>\n",
       "      <td>14.7</td>\n",
       "      <td>NaN</td>\n",
       "    </tr>\n",
       "    <tr>\n",
       "      <th>1</th>\n",
       "      <td>Anggun Laili</td>\n",
       "      <td>2018-05-06</td>\n",
       "      <td>2023-01-24</td>\n",
       "      <td>12.2</td>\n",
       "      <td>98.5</td>\n",
       "      <td>14.5</td>\n",
       "      <td>NaN</td>\n",
       "    </tr>\n",
       "    <tr>\n",
       "      <th>2</th>\n",
       "      <td>Sivaul Qolbi</td>\n",
       "      <td>2018-06-06</td>\n",
       "      <td>2023-01-24</td>\n",
       "      <td>12.6</td>\n",
       "      <td>95.5</td>\n",
       "      <td>14.7</td>\n",
       "      <td>NaN</td>\n",
       "    </tr>\n",
       "    <tr>\n",
       "      <th>3</th>\n",
       "      <td>Rael</td>\n",
       "      <td>2018-07-03</td>\n",
       "      <td>2023-01-24</td>\n",
       "      <td>14.2</td>\n",
       "      <td>99.3</td>\n",
       "      <td>15.0</td>\n",
       "      <td>NaN</td>\n",
       "    </tr>\n",
       "    <tr>\n",
       "      <th>4</th>\n",
       "      <td>SILVIA ANJANI</td>\n",
       "      <td>2018-08-18</td>\n",
       "      <td>2023-01-24</td>\n",
       "      <td>13.2</td>\n",
       "      <td>97</td>\n",
       "      <td>14.7</td>\n",
       "      <td>NaN</td>\n",
       "    </tr>\n",
       "    <tr>\n",
       "      <th>...</th>\n",
       "      <td>...</td>\n",
       "      <td>...</td>\n",
       "      <td>...</td>\n",
       "      <td>...</td>\n",
       "      <td>...</td>\n",
       "      <td>...</td>\n",
       "      <td>...</td>\n",
       "    </tr>\n",
       "    <tr>\n",
       "      <th>620</th>\n",
       "      <td>SAFA ANGGIANA</td>\n",
       "      <td>2022-04-07</td>\n",
       "      <td>2023-01-11</td>\n",
       "      <td>7.0</td>\n",
       "      <td>67.5</td>\n",
       "      <td>13.0</td>\n",
       "      <td>NaN</td>\n",
       "    </tr>\n",
       "    <tr>\n",
       "      <th>621</th>\n",
       "      <td>ZOYA</td>\n",
       "      <td>2022-04-14</td>\n",
       "      <td>2023-01-11</td>\n",
       "      <td>7.6</td>\n",
       "      <td>67.5</td>\n",
       "      <td>12.5</td>\n",
       "      <td>NaN</td>\n",
       "    </tr>\n",
       "    <tr>\n",
       "      <th>622</th>\n",
       "      <td>TRESNO ADI DHARMA</td>\n",
       "      <td>2022-06-04</td>\n",
       "      <td>2023-01-11</td>\n",
       "      <td>6.5</td>\n",
       "      <td>65</td>\n",
       "      <td>13.3</td>\n",
       "      <td>NaN</td>\n",
       "    </tr>\n",
       "    <tr>\n",
       "      <th>623</th>\n",
       "      <td>ERIN CANTIKA PUTRI</td>\n",
       "      <td>2022-06-06</td>\n",
       "      <td>2023-01-11</td>\n",
       "      <td>6.1</td>\n",
       "      <td>65.5</td>\n",
       "      <td>12.8</td>\n",
       "      <td>NaN</td>\n",
       "    </tr>\n",
       "    <tr>\n",
       "      <th>624</th>\n",
       "      <td>Najwa Ima Syuhada</td>\n",
       "      <td>2022-11-07</td>\n",
       "      <td>2023-01-11</td>\n",
       "      <td>5.6</td>\n",
       "      <td>60</td>\n",
       "      <td>NaN</td>\n",
       "      <td>NaN</td>\n",
       "    </tr>\n",
       "  </tbody>\n",
       "</table>\n",
       "<p>624 rows × 7 columns</p>\n",
       "</div>"
      ],
      "text/plain": [
       "              nama_anak    tgl_lahir   tgl_ukur  berat tinggi  lila  ket\n",
       "0         Arlan Saputra  2018-04-03  2023-01-24   13.1   97.5  14.7  NaN\n",
       "1          Anggun Laili  2018-05-06  2023-01-24   12.2   98.5  14.5  NaN\n",
       "2          Sivaul Qolbi  2018-06-06  2023-01-24   12.6   95.5  14.7  NaN\n",
       "3                  Rael  2018-07-03  2023-01-24   14.2   99.3  15.0  NaN\n",
       "4         SILVIA ANJANI  2018-08-18  2023-01-24   13.2     97  14.7  NaN\n",
       "..                  ...          ...        ...    ...    ...   ...  ...\n",
       "620       SAFA ANGGIANA  2022-04-07  2023-01-11    7.0   67.5  13.0  NaN\n",
       "621                ZOYA  2022-04-14  2023-01-11    7.6   67.5  12.5  NaN\n",
       "622   TRESNO ADI DHARMA  2022-06-04  2023-01-11    6.5     65  13.3  NaN\n",
       "623  ERIN CANTIKA PUTRI  2022-06-06  2023-01-11    6.1   65.5  12.8  NaN\n",
       "624   Najwa Ima Syuhada  2022-11-07  2023-01-11    5.6     60   NaN  NaN\n",
       "\n",
       "[624 rows x 7 columns]"
      ]
     },
     "execution_count": 112,
     "metadata": {},
     "output_type": "execute_result"
    }
   ],
   "source": [
    "df_stun"
   ]
  },
  {
   "cell_type": "code",
   "execution_count": 114,
   "metadata": {},
   "outputs": [],
   "source": [
    "df_stun.to_excel('Prepros1.xlsx', index=False)"
   ]
  },
  {
   "cell_type": "code",
   "execution_count": null,
   "metadata": {},
   "outputs": [],
   "source": []
  }
 ],
 "metadata": {
  "kernelspec": {
   "display_name": "Python 3",
   "language": "python",
   "name": "python3"
  },
  "language_info": {
   "codemirror_mode": {
    "name": "ipython",
    "version": 3
   },
   "file_extension": ".py",
   "mimetype": "text/x-python",
   "name": "python",
   "nbconvert_exporter": "python",
   "pygments_lexer": "ipython3",
   "version": "3.11.5"
  },
  "orig_nbformat": 4
 },
 "nbformat": 4,
 "nbformat_minor": 2
}
